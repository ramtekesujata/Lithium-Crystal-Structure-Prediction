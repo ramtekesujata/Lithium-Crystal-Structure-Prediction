{
  "nbformat": 4,
  "nbformat_minor": 0,
  "metadata": {
    "colab": {
      "provenance": []
    },
    "kernelspec": {
      "name": "python3",
      "display_name": "Python 3"
    },
    "language_info": {
      "name": "python"
    }
  },
  "cells": [
    {
      "cell_type": "markdown",
      "source": [
        "# Lithium Crystal System Prediction(Self Project)\n"
      ],
      "metadata": {
        "id": "FfUhumddCqnU"
      }
    },
    {
      "cell_type": "markdown",
      "source": [
        "### Required Libraries"
      ],
      "metadata": {
        "id": "DnqTGl16L3BY"
      }
    },
    {
      "cell_type": "code",
      "execution_count": null,
      "metadata": {
        "id": "uA_vFe49fnI6"
      },
      "outputs": [],
      "source": [
        "import pandas as pd\n",
        "import numpy as np\n",
        "import seaborn as sns\n",
        "import matplotlib.pyplot as plt\n",
        "%matplotlib inline"
      ]
    },
    {
      "cell_type": "markdown",
      "source": [
        "### Preliminaries"
      ],
      "metadata": {
        "id": "A3aI-r-iC7P4"
      }
    },
    {
      "cell_type": "code",
      "source": [
        "data = pd.read_csv('https://apmonitor.com/pds/uploads/Main/lithium_ion.txt')"
      ],
      "metadata": {
        "id": "L4bcH6spgEyN"
      },
      "execution_count": null,
      "outputs": []
    },
    {
      "cell_type": "code",
      "source": [
        "data.head()"
      ],
      "metadata": {
        "colab": {
          "base_uri": "https://localhost:8080/"
        },
        "id": "UL-QUysxgIEq",
        "outputId": "e9c5d06f-1e0a-4be7-ab28-e583a6cb964f"
      },
      "execution_count": null,
      "outputs": [
        {
          "output_type": "execute_result",
          "data": {
            "text/plain": [
              "  Materials Id       Formula Spacegroup  Formation Energy (eV)  \\\n",
              "0    mp-849394     Li2MnSiO4         Pc                 -2.699   \n",
              "1    mp-783909     Li2MnSiO4      P21/c                 -2.696   \n",
              "2    mp-761311    Li4MnSi2O7         Cc                 -2.775   \n",
              "3    mp-761598  Li4Mn2Si3O10       C2/c                 -2.783   \n",
              "4    mp-767709  Li2Mn3Si3O10       C2/c                 -2.747   \n",
              "\n",
              "   E Above Hull (eV)  Band Gap (eV)  Nsites  Density (gm/cc)   Volume  \\\n",
              "0              0.006          3.462      16            2.993  178.513   \n",
              "1              0.008          2.879      32            2.926  365.272   \n",
              "2              0.012          3.653      28            2.761  301.775   \n",
              "3              0.013          3.015      38            2.908  436.183   \n",
              "4              0.016          2.578      36            3.334  421.286   \n",
              "\n",
              "   Has Bandstructure Crystal System  \n",
              "0               True     monoclinic  \n",
              "1               True     monoclinic  \n",
              "2               True     monoclinic  \n",
              "3               True     monoclinic  \n",
              "4               True     monoclinic  "
            ],
            "text/html": [
              "\n",
              "  <div id=\"df-ddb9cc9c-4c41-40bc-b968-73fde4119d8a\">\n",
              "    <div class=\"colab-df-container\">\n",
              "      <div>\n",
              "<style scoped>\n",
              "    .dataframe tbody tr th:only-of-type {\n",
              "        vertical-align: middle;\n",
              "    }\n",
              "\n",
              "    .dataframe tbody tr th {\n",
              "        vertical-align: top;\n",
              "    }\n",
              "\n",
              "    .dataframe thead th {\n",
              "        text-align: right;\n",
              "    }\n",
              "</style>\n",
              "<table border=\"1\" class=\"dataframe\">\n",
              "  <thead>\n",
              "    <tr style=\"text-align: right;\">\n",
              "      <th></th>\n",
              "      <th>Materials Id</th>\n",
              "      <th>Formula</th>\n",
              "      <th>Spacegroup</th>\n",
              "      <th>Formation Energy (eV)</th>\n",
              "      <th>E Above Hull (eV)</th>\n",
              "      <th>Band Gap (eV)</th>\n",
              "      <th>Nsites</th>\n",
              "      <th>Density (gm/cc)</th>\n",
              "      <th>Volume</th>\n",
              "      <th>Has Bandstructure</th>\n",
              "      <th>Crystal System</th>\n",
              "    </tr>\n",
              "  </thead>\n",
              "  <tbody>\n",
              "    <tr>\n",
              "      <th>0</th>\n",
              "      <td>mp-849394</td>\n",
              "      <td>Li2MnSiO4</td>\n",
              "      <td>Pc</td>\n",
              "      <td>-2.699</td>\n",
              "      <td>0.006</td>\n",
              "      <td>3.462</td>\n",
              "      <td>16</td>\n",
              "      <td>2.993</td>\n",
              "      <td>178.513</td>\n",
              "      <td>True</td>\n",
              "      <td>monoclinic</td>\n",
              "    </tr>\n",
              "    <tr>\n",
              "      <th>1</th>\n",
              "      <td>mp-783909</td>\n",
              "      <td>Li2MnSiO4</td>\n",
              "      <td>P21/c</td>\n",
              "      <td>-2.696</td>\n",
              "      <td>0.008</td>\n",
              "      <td>2.879</td>\n",
              "      <td>32</td>\n",
              "      <td>2.926</td>\n",
              "      <td>365.272</td>\n",
              "      <td>True</td>\n",
              "      <td>monoclinic</td>\n",
              "    </tr>\n",
              "    <tr>\n",
              "      <th>2</th>\n",
              "      <td>mp-761311</td>\n",
              "      <td>Li4MnSi2O7</td>\n",
              "      <td>Cc</td>\n",
              "      <td>-2.775</td>\n",
              "      <td>0.012</td>\n",
              "      <td>3.653</td>\n",
              "      <td>28</td>\n",
              "      <td>2.761</td>\n",
              "      <td>301.775</td>\n",
              "      <td>True</td>\n",
              "      <td>monoclinic</td>\n",
              "    </tr>\n",
              "    <tr>\n",
              "      <th>3</th>\n",
              "      <td>mp-761598</td>\n",
              "      <td>Li4Mn2Si3O10</td>\n",
              "      <td>C2/c</td>\n",
              "      <td>-2.783</td>\n",
              "      <td>0.013</td>\n",
              "      <td>3.015</td>\n",
              "      <td>38</td>\n",
              "      <td>2.908</td>\n",
              "      <td>436.183</td>\n",
              "      <td>True</td>\n",
              "      <td>monoclinic</td>\n",
              "    </tr>\n",
              "    <tr>\n",
              "      <th>4</th>\n",
              "      <td>mp-767709</td>\n",
              "      <td>Li2Mn3Si3O10</td>\n",
              "      <td>C2/c</td>\n",
              "      <td>-2.747</td>\n",
              "      <td>0.016</td>\n",
              "      <td>2.578</td>\n",
              "      <td>36</td>\n",
              "      <td>3.334</td>\n",
              "      <td>421.286</td>\n",
              "      <td>True</td>\n",
              "      <td>monoclinic</td>\n",
              "    </tr>\n",
              "  </tbody>\n",
              "</table>\n",
              "</div>\n",
              "      <button class=\"colab-df-convert\" onclick=\"convertToInteractive('df-ddb9cc9c-4c41-40bc-b968-73fde4119d8a')\"\n",
              "              title=\"Convert this dataframe to an interactive table.\"\n",
              "              style=\"display:none;\">\n",
              "        \n",
              "  <svg xmlns=\"http://www.w3.org/2000/svg\" height=\"24px\"viewBox=\"0 0 24 24\"\n",
              "       width=\"24px\">\n",
              "    <path d=\"M0 0h24v24H0V0z\" fill=\"none\"/>\n",
              "    <path d=\"M18.56 5.44l.94 2.06.94-2.06 2.06-.94-2.06-.94-.94-2.06-.94 2.06-2.06.94zm-11 1L8.5 8.5l.94-2.06 2.06-.94-2.06-.94L8.5 2.5l-.94 2.06-2.06.94zm10 10l.94 2.06.94-2.06 2.06-.94-2.06-.94-.94-2.06-.94 2.06-2.06.94z\"/><path d=\"M17.41 7.96l-1.37-1.37c-.4-.4-.92-.59-1.43-.59-.52 0-1.04.2-1.43.59L10.3 9.45l-7.72 7.72c-.78.78-.78 2.05 0 2.83L4 21.41c.39.39.9.59 1.41.59.51 0 1.02-.2 1.41-.59l7.78-7.78 2.81-2.81c.8-.78.8-2.07 0-2.86zM5.41 20L4 18.59l7.72-7.72 1.47 1.35L5.41 20z\"/>\n",
              "  </svg>\n",
              "      </button>\n",
              "      \n",
              "  <style>\n",
              "    .colab-df-container {\n",
              "      display:flex;\n",
              "      flex-wrap:wrap;\n",
              "      gap: 12px;\n",
              "    }\n",
              "\n",
              "    .colab-df-convert {\n",
              "      background-color: #E8F0FE;\n",
              "      border: none;\n",
              "      border-radius: 50%;\n",
              "      cursor: pointer;\n",
              "      display: none;\n",
              "      fill: #1967D2;\n",
              "      height: 32px;\n",
              "      padding: 0 0 0 0;\n",
              "      width: 32px;\n",
              "    }\n",
              "\n",
              "    .colab-df-convert:hover {\n",
              "      background-color: #E2EBFA;\n",
              "      box-shadow: 0px 1px 2px rgba(60, 64, 67, 0.3), 0px 1px 3px 1px rgba(60, 64, 67, 0.15);\n",
              "      fill: #174EA6;\n",
              "    }\n",
              "\n",
              "    [theme=dark] .colab-df-convert {\n",
              "      background-color: #3B4455;\n",
              "      fill: #D2E3FC;\n",
              "    }\n",
              "\n",
              "    [theme=dark] .colab-df-convert:hover {\n",
              "      background-color: #434B5C;\n",
              "      box-shadow: 0px 1px 3px 1px rgba(0, 0, 0, 0.15);\n",
              "      filter: drop-shadow(0px 1px 2px rgba(0, 0, 0, 0.3));\n",
              "      fill: #FFFFFF;\n",
              "    }\n",
              "  </style>\n",
              "\n",
              "      <script>\n",
              "        const buttonEl =\n",
              "          document.querySelector('#df-ddb9cc9c-4c41-40bc-b968-73fde4119d8a button.colab-df-convert');\n",
              "        buttonEl.style.display =\n",
              "          google.colab.kernel.accessAllowed ? 'block' : 'none';\n",
              "\n",
              "        async function convertToInteractive(key) {\n",
              "          const element = document.querySelector('#df-ddb9cc9c-4c41-40bc-b968-73fde4119d8a');\n",
              "          const dataTable =\n",
              "            await google.colab.kernel.invokeFunction('convertToInteractive',\n",
              "                                                     [key], {});\n",
              "          if (!dataTable) return;\n",
              "\n",
              "          const docLinkHtml = 'Like what you see? Visit the ' +\n",
              "            '<a target=\"_blank\" href=https://colab.research.google.com/notebooks/data_table.ipynb>data table notebook</a>'\n",
              "            + ' to learn more about interactive tables.';\n",
              "          element.innerHTML = '';\n",
              "          dataTable['output_type'] = 'display_data';\n",
              "          await google.colab.output.renderOutput(dataTable, element);\n",
              "          const docLink = document.createElement('div');\n",
              "          docLink.innerHTML = docLinkHtml;\n",
              "          element.appendChild(docLink);\n",
              "        }\n",
              "      </script>\n",
              "    </div>\n",
              "  </div>\n",
              "  "
            ]
          },
          "metadata": {},
          "execution_count": 6
        }
      ]
    },
    {
      "cell_type": "code",
      "source": [
        "data.describe()"
      ],
      "metadata": {
        "colab": {
          "base_uri": "https://localhost:8080/"
        },
        "id": "_TU1VHLmgQdK",
        "outputId": "e095eff8-4b50-4460-cfde-f111afa4337e"
      },
      "execution_count": null,
      "outputs": [
        {
          "output_type": "execute_result",
          "data": {
            "text/plain": [
              "       Formation Energy (eV)  E Above Hull (eV)  Band Gap (eV)      Nsites  \\\n",
              "count             339.000000         339.000000     339.000000  339.000000   \n",
              "mean               -2.616950           0.058215       2.079740   38.837758   \n",
              "std                 0.183809           0.030363       1.087968   23.133142   \n",
              "min                -2.985000           0.000000       0.000000   10.000000   \n",
              "25%                -2.757500           0.035500       1.265500   26.000000   \n",
              "50%                -2.605000           0.062000       2.499000   31.000000   \n",
              "75%                -2.525500           0.081500       2.968000   52.000000   \n",
              "max                -2.012000           0.190000       3.823000  132.000000   \n",
              "\n",
              "       Density (gm/cc)       Volume  \n",
              "count       339.000000   339.000000  \n",
              "mean          2.984003   467.765619  \n",
              "std           0.353968   292.674559  \n",
              "min           2.200000   122.581000  \n",
              "25%           2.760500   286.381500  \n",
              "50%           2.947000   358.537000  \n",
              "75%           3.106000   601.696500  \n",
              "max           4.201000  1518.850000  "
            ],
            "text/html": [
              "\n",
              "  <div id=\"df-829dade3-e262-4036-9ce9-4fc1a9afa94b\">\n",
              "    <div class=\"colab-df-container\">\n",
              "      <div>\n",
              "<style scoped>\n",
              "    .dataframe tbody tr th:only-of-type {\n",
              "        vertical-align: middle;\n",
              "    }\n",
              "\n",
              "    .dataframe tbody tr th {\n",
              "        vertical-align: top;\n",
              "    }\n",
              "\n",
              "    .dataframe thead th {\n",
              "        text-align: right;\n",
              "    }\n",
              "</style>\n",
              "<table border=\"1\" class=\"dataframe\">\n",
              "  <thead>\n",
              "    <tr style=\"text-align: right;\">\n",
              "      <th></th>\n",
              "      <th>Formation Energy (eV)</th>\n",
              "      <th>E Above Hull (eV)</th>\n",
              "      <th>Band Gap (eV)</th>\n",
              "      <th>Nsites</th>\n",
              "      <th>Density (gm/cc)</th>\n",
              "      <th>Volume</th>\n",
              "    </tr>\n",
              "  </thead>\n",
              "  <tbody>\n",
              "    <tr>\n",
              "      <th>count</th>\n",
              "      <td>339.000000</td>\n",
              "      <td>339.000000</td>\n",
              "      <td>339.000000</td>\n",
              "      <td>339.000000</td>\n",
              "      <td>339.000000</td>\n",
              "      <td>339.000000</td>\n",
              "    </tr>\n",
              "    <tr>\n",
              "      <th>mean</th>\n",
              "      <td>-2.616950</td>\n",
              "      <td>0.058215</td>\n",
              "      <td>2.079740</td>\n",
              "      <td>38.837758</td>\n",
              "      <td>2.984003</td>\n",
              "      <td>467.765619</td>\n",
              "    </tr>\n",
              "    <tr>\n",
              "      <th>std</th>\n",
              "      <td>0.183809</td>\n",
              "      <td>0.030363</td>\n",
              "      <td>1.087968</td>\n",
              "      <td>23.133142</td>\n",
              "      <td>0.353968</td>\n",
              "      <td>292.674559</td>\n",
              "    </tr>\n",
              "    <tr>\n",
              "      <th>min</th>\n",
              "      <td>-2.985000</td>\n",
              "      <td>0.000000</td>\n",
              "      <td>0.000000</td>\n",
              "      <td>10.000000</td>\n",
              "      <td>2.200000</td>\n",
              "      <td>122.581000</td>\n",
              "    </tr>\n",
              "    <tr>\n",
              "      <th>25%</th>\n",
              "      <td>-2.757500</td>\n",
              "      <td>0.035500</td>\n",
              "      <td>1.265500</td>\n",
              "      <td>26.000000</td>\n",
              "      <td>2.760500</td>\n",
              "      <td>286.381500</td>\n",
              "    </tr>\n",
              "    <tr>\n",
              "      <th>50%</th>\n",
              "      <td>-2.605000</td>\n",
              "      <td>0.062000</td>\n",
              "      <td>2.499000</td>\n",
              "      <td>31.000000</td>\n",
              "      <td>2.947000</td>\n",
              "      <td>358.537000</td>\n",
              "    </tr>\n",
              "    <tr>\n",
              "      <th>75%</th>\n",
              "      <td>-2.525500</td>\n",
              "      <td>0.081500</td>\n",
              "      <td>2.968000</td>\n",
              "      <td>52.000000</td>\n",
              "      <td>3.106000</td>\n",
              "      <td>601.696500</td>\n",
              "    </tr>\n",
              "    <tr>\n",
              "      <th>max</th>\n",
              "      <td>-2.012000</td>\n",
              "      <td>0.190000</td>\n",
              "      <td>3.823000</td>\n",
              "      <td>132.000000</td>\n",
              "      <td>4.201000</td>\n",
              "      <td>1518.850000</td>\n",
              "    </tr>\n",
              "  </tbody>\n",
              "</table>\n",
              "</div>\n",
              "      <button class=\"colab-df-convert\" onclick=\"convertToInteractive('df-829dade3-e262-4036-9ce9-4fc1a9afa94b')\"\n",
              "              title=\"Convert this dataframe to an interactive table.\"\n",
              "              style=\"display:none;\">\n",
              "        \n",
              "  <svg xmlns=\"http://www.w3.org/2000/svg\" height=\"24px\"viewBox=\"0 0 24 24\"\n",
              "       width=\"24px\">\n",
              "    <path d=\"M0 0h24v24H0V0z\" fill=\"none\"/>\n",
              "    <path d=\"M18.56 5.44l.94 2.06.94-2.06 2.06-.94-2.06-.94-.94-2.06-.94 2.06-2.06.94zm-11 1L8.5 8.5l.94-2.06 2.06-.94-2.06-.94L8.5 2.5l-.94 2.06-2.06.94zm10 10l.94 2.06.94-2.06 2.06-.94-2.06-.94-.94-2.06-.94 2.06-2.06.94z\"/><path d=\"M17.41 7.96l-1.37-1.37c-.4-.4-.92-.59-1.43-.59-.52 0-1.04.2-1.43.59L10.3 9.45l-7.72 7.72c-.78.78-.78 2.05 0 2.83L4 21.41c.39.39.9.59 1.41.59.51 0 1.02-.2 1.41-.59l7.78-7.78 2.81-2.81c.8-.78.8-2.07 0-2.86zM5.41 20L4 18.59l7.72-7.72 1.47 1.35L5.41 20z\"/>\n",
              "  </svg>\n",
              "      </button>\n",
              "      \n",
              "  <style>\n",
              "    .colab-df-container {\n",
              "      display:flex;\n",
              "      flex-wrap:wrap;\n",
              "      gap: 12px;\n",
              "    }\n",
              "\n",
              "    .colab-df-convert {\n",
              "      background-color: #E8F0FE;\n",
              "      border: none;\n",
              "      border-radius: 50%;\n",
              "      cursor: pointer;\n",
              "      display: none;\n",
              "      fill: #1967D2;\n",
              "      height: 32px;\n",
              "      padding: 0 0 0 0;\n",
              "      width: 32px;\n",
              "    }\n",
              "\n",
              "    .colab-df-convert:hover {\n",
              "      background-color: #E2EBFA;\n",
              "      box-shadow: 0px 1px 2px rgba(60, 64, 67, 0.3), 0px 1px 3px 1px rgba(60, 64, 67, 0.15);\n",
              "      fill: #174EA6;\n",
              "    }\n",
              "\n",
              "    [theme=dark] .colab-df-convert {\n",
              "      background-color: #3B4455;\n",
              "      fill: #D2E3FC;\n",
              "    }\n",
              "\n",
              "    [theme=dark] .colab-df-convert:hover {\n",
              "      background-color: #434B5C;\n",
              "      box-shadow: 0px 1px 3px 1px rgba(0, 0, 0, 0.15);\n",
              "      filter: drop-shadow(0px 1px 2px rgba(0, 0, 0, 0.3));\n",
              "      fill: #FFFFFF;\n",
              "    }\n",
              "  </style>\n",
              "\n",
              "      <script>\n",
              "        const buttonEl =\n",
              "          document.querySelector('#df-829dade3-e262-4036-9ce9-4fc1a9afa94b button.colab-df-convert');\n",
              "        buttonEl.style.display =\n",
              "          google.colab.kernel.accessAllowed ? 'block' : 'none';\n",
              "\n",
              "        async function convertToInteractive(key) {\n",
              "          const element = document.querySelector('#df-829dade3-e262-4036-9ce9-4fc1a9afa94b');\n",
              "          const dataTable =\n",
              "            await google.colab.kernel.invokeFunction('convertToInteractive',\n",
              "                                                     [key], {});\n",
              "          if (!dataTable) return;\n",
              "\n",
              "          const docLinkHtml = 'Like what you see? Visit the ' +\n",
              "            '<a target=\"_blank\" href=https://colab.research.google.com/notebooks/data_table.ipynb>data table notebook</a>'\n",
              "            + ' to learn more about interactive tables.';\n",
              "          element.innerHTML = '';\n",
              "          dataTable['output_type'] = 'display_data';\n",
              "          await google.colab.output.renderOutput(dataTable, element);\n",
              "          const docLink = document.createElement('div');\n",
              "          docLink.innerHTML = docLinkHtml;\n",
              "          element.appendChild(docLink);\n",
              "        }\n",
              "      </script>\n",
              "    </div>\n",
              "  </div>\n",
              "  "
            ]
          },
          "metadata": {},
          "execution_count": 7
        }
      ]
    },
    {
      "cell_type": "code",
      "source": [
        "data.info()"
      ],
      "metadata": {
        "colab": {
          "base_uri": "https://localhost:8080/"
        },
        "id": "7nst4o0-DIe0",
        "outputId": "1a9b6641-e291-4837-a9c1-275b500627b7"
      },
      "execution_count": null,
      "outputs": [
        {
          "output_type": "stream",
          "name": "stdout",
          "text": [
            "<class 'pandas.core.frame.DataFrame'>\n",
            "RangeIndex: 339 entries, 0 to 338\n",
            "Data columns (total 11 columns):\n",
            " #   Column                 Non-Null Count  Dtype  \n",
            "---  ------                 --------------  -----  \n",
            " 0   Materials Id           339 non-null    object \n",
            " 1   Formula                339 non-null    object \n",
            " 2   Spacegroup             339 non-null    object \n",
            " 3   Formation Energy (eV)  339 non-null    float64\n",
            " 4   E Above Hull (eV)      339 non-null    float64\n",
            " 5   Band Gap (eV)          339 non-null    float64\n",
            " 6   Nsites                 339 non-null    int64  \n",
            " 7   Density (gm/cc)        339 non-null    float64\n",
            " 8   Volume                 339 non-null    float64\n",
            " 9   Has Bandstructure      339 non-null    bool   \n",
            " 10  Crystal System         339 non-null    object \n",
            "dtypes: bool(1), float64(5), int64(1), object(4)\n",
            "memory usage: 26.9+ KB\n"
          ]
        }
      ]
    },
    {
      "cell_type": "markdown",
      "source": [
        "### Correlation matrix"
      ],
      "metadata": {
        "id": "vzZ2QuOgMNaq"
      }
    },
    {
      "cell_type": "code",
      "source": [
        "data.corr()"
      ],
      "metadata": {
        "colab": {
          "base_uri": "https://localhost:8080/"
        },
        "id": "uTEgtA21DMuf",
        "outputId": "95b1cbd1-73fb-40db-e8f4-0aaa8808cef5"
      },
      "execution_count": null,
      "outputs": [
        {
          "output_type": "execute_result",
          "data": {
            "text/plain": [
              "                       Formation Energy (eV)  E Above Hull (eV)  \\\n",
              "Formation Energy (eV)               1.000000           0.272422   \n",
              "E Above Hull (eV)                   0.272422           1.000000   \n",
              "Band Gap (eV)                      -0.438429          -0.468094   \n",
              "Nsites                             -0.270777           0.068422   \n",
              "Density (gm/cc)                     0.485055          -0.022966   \n",
              "Volume                             -0.305389           0.097230   \n",
              "Has Bandstructure                   0.198019          -0.087987   \n",
              "\n",
              "                       Band Gap (eV)    Nsites  Density (gm/cc)    Volume  \\\n",
              "Formation Energy (eV)      -0.438429 -0.270777         0.485055 -0.305389   \n",
              "E Above Hull (eV)          -0.468094  0.068422        -0.022966  0.097230   \n",
              "Band Gap (eV)               1.000000  0.104626        -0.348753  0.152620   \n",
              "Nsites                      0.104626  1.000000        -0.178178  0.980329   \n",
              "Density (gm/cc)            -0.348753 -0.178178         1.000000 -0.293185   \n",
              "Volume                      0.152620  0.980329        -0.293185  1.000000   \n",
              "Has Bandstructure           0.021514 -0.550676         0.188391 -0.566325   \n",
              "\n",
              "                       Has Bandstructure  \n",
              "Formation Energy (eV)           0.198019  \n",
              "E Above Hull (eV)              -0.087987  \n",
              "Band Gap (eV)                   0.021514  \n",
              "Nsites                         -0.550676  \n",
              "Density (gm/cc)                 0.188391  \n",
              "Volume                         -0.566325  \n",
              "Has Bandstructure               1.000000  "
            ],
            "text/html": [
              "\n",
              "  <div id=\"df-58da1add-02a5-415b-b9cd-496ee10cf870\">\n",
              "    <div class=\"colab-df-container\">\n",
              "      <div>\n",
              "<style scoped>\n",
              "    .dataframe tbody tr th:only-of-type {\n",
              "        vertical-align: middle;\n",
              "    }\n",
              "\n",
              "    .dataframe tbody tr th {\n",
              "        vertical-align: top;\n",
              "    }\n",
              "\n",
              "    .dataframe thead th {\n",
              "        text-align: right;\n",
              "    }\n",
              "</style>\n",
              "<table border=\"1\" class=\"dataframe\">\n",
              "  <thead>\n",
              "    <tr style=\"text-align: right;\">\n",
              "      <th></th>\n",
              "      <th>Formation Energy (eV)</th>\n",
              "      <th>E Above Hull (eV)</th>\n",
              "      <th>Band Gap (eV)</th>\n",
              "      <th>Nsites</th>\n",
              "      <th>Density (gm/cc)</th>\n",
              "      <th>Volume</th>\n",
              "      <th>Has Bandstructure</th>\n",
              "    </tr>\n",
              "  </thead>\n",
              "  <tbody>\n",
              "    <tr>\n",
              "      <th>Formation Energy (eV)</th>\n",
              "      <td>1.000000</td>\n",
              "      <td>0.272422</td>\n",
              "      <td>-0.438429</td>\n",
              "      <td>-0.270777</td>\n",
              "      <td>0.485055</td>\n",
              "      <td>-0.305389</td>\n",
              "      <td>0.198019</td>\n",
              "    </tr>\n",
              "    <tr>\n",
              "      <th>E Above Hull (eV)</th>\n",
              "      <td>0.272422</td>\n",
              "      <td>1.000000</td>\n",
              "      <td>-0.468094</td>\n",
              "      <td>0.068422</td>\n",
              "      <td>-0.022966</td>\n",
              "      <td>0.097230</td>\n",
              "      <td>-0.087987</td>\n",
              "    </tr>\n",
              "    <tr>\n",
              "      <th>Band Gap (eV)</th>\n",
              "      <td>-0.438429</td>\n",
              "      <td>-0.468094</td>\n",
              "      <td>1.000000</td>\n",
              "      <td>0.104626</td>\n",
              "      <td>-0.348753</td>\n",
              "      <td>0.152620</td>\n",
              "      <td>0.021514</td>\n",
              "    </tr>\n",
              "    <tr>\n",
              "      <th>Nsites</th>\n",
              "      <td>-0.270777</td>\n",
              "      <td>0.068422</td>\n",
              "      <td>0.104626</td>\n",
              "      <td>1.000000</td>\n",
              "      <td>-0.178178</td>\n",
              "      <td>0.980329</td>\n",
              "      <td>-0.550676</td>\n",
              "    </tr>\n",
              "    <tr>\n",
              "      <th>Density (gm/cc)</th>\n",
              "      <td>0.485055</td>\n",
              "      <td>-0.022966</td>\n",
              "      <td>-0.348753</td>\n",
              "      <td>-0.178178</td>\n",
              "      <td>1.000000</td>\n",
              "      <td>-0.293185</td>\n",
              "      <td>0.188391</td>\n",
              "    </tr>\n",
              "    <tr>\n",
              "      <th>Volume</th>\n",
              "      <td>-0.305389</td>\n",
              "      <td>0.097230</td>\n",
              "      <td>0.152620</td>\n",
              "      <td>0.980329</td>\n",
              "      <td>-0.293185</td>\n",
              "      <td>1.000000</td>\n",
              "      <td>-0.566325</td>\n",
              "    </tr>\n",
              "    <tr>\n",
              "      <th>Has Bandstructure</th>\n",
              "      <td>0.198019</td>\n",
              "      <td>-0.087987</td>\n",
              "      <td>0.021514</td>\n",
              "      <td>-0.550676</td>\n",
              "      <td>0.188391</td>\n",
              "      <td>-0.566325</td>\n",
              "      <td>1.000000</td>\n",
              "    </tr>\n",
              "  </tbody>\n",
              "</table>\n",
              "</div>\n",
              "      <button class=\"colab-df-convert\" onclick=\"convertToInteractive('df-58da1add-02a5-415b-b9cd-496ee10cf870')\"\n",
              "              title=\"Convert this dataframe to an interactive table.\"\n",
              "              style=\"display:none;\">\n",
              "        \n",
              "  <svg xmlns=\"http://www.w3.org/2000/svg\" height=\"24px\"viewBox=\"0 0 24 24\"\n",
              "       width=\"24px\">\n",
              "    <path d=\"M0 0h24v24H0V0z\" fill=\"none\"/>\n",
              "    <path d=\"M18.56 5.44l.94 2.06.94-2.06 2.06-.94-2.06-.94-.94-2.06-.94 2.06-2.06.94zm-11 1L8.5 8.5l.94-2.06 2.06-.94-2.06-.94L8.5 2.5l-.94 2.06-2.06.94zm10 10l.94 2.06.94-2.06 2.06-.94-2.06-.94-.94-2.06-.94 2.06-2.06.94z\"/><path d=\"M17.41 7.96l-1.37-1.37c-.4-.4-.92-.59-1.43-.59-.52 0-1.04.2-1.43.59L10.3 9.45l-7.72 7.72c-.78.78-.78 2.05 0 2.83L4 21.41c.39.39.9.59 1.41.59.51 0 1.02-.2 1.41-.59l7.78-7.78 2.81-2.81c.8-.78.8-2.07 0-2.86zM5.41 20L4 18.59l7.72-7.72 1.47 1.35L5.41 20z\"/>\n",
              "  </svg>\n",
              "      </button>\n",
              "      \n",
              "  <style>\n",
              "    .colab-df-container {\n",
              "      display:flex;\n",
              "      flex-wrap:wrap;\n",
              "      gap: 12px;\n",
              "    }\n",
              "\n",
              "    .colab-df-convert {\n",
              "      background-color: #E8F0FE;\n",
              "      border: none;\n",
              "      border-radius: 50%;\n",
              "      cursor: pointer;\n",
              "      display: none;\n",
              "      fill: #1967D2;\n",
              "      height: 32px;\n",
              "      padding: 0 0 0 0;\n",
              "      width: 32px;\n",
              "    }\n",
              "\n",
              "    .colab-df-convert:hover {\n",
              "      background-color: #E2EBFA;\n",
              "      box-shadow: 0px 1px 2px rgba(60, 64, 67, 0.3), 0px 1px 3px 1px rgba(60, 64, 67, 0.15);\n",
              "      fill: #174EA6;\n",
              "    }\n",
              "\n",
              "    [theme=dark] .colab-df-convert {\n",
              "      background-color: #3B4455;\n",
              "      fill: #D2E3FC;\n",
              "    }\n",
              "\n",
              "    [theme=dark] .colab-df-convert:hover {\n",
              "      background-color: #434B5C;\n",
              "      box-shadow: 0px 1px 3px 1px rgba(0, 0, 0, 0.15);\n",
              "      filter: drop-shadow(0px 1px 2px rgba(0, 0, 0, 0.3));\n",
              "      fill: #FFFFFF;\n",
              "    }\n",
              "  </style>\n",
              "\n",
              "      <script>\n",
              "        const buttonEl =\n",
              "          document.querySelector('#df-58da1add-02a5-415b-b9cd-496ee10cf870 button.colab-df-convert');\n",
              "        buttonEl.style.display =\n",
              "          google.colab.kernel.accessAllowed ? 'block' : 'none';\n",
              "\n",
              "        async function convertToInteractive(key) {\n",
              "          const element = document.querySelector('#df-58da1add-02a5-415b-b9cd-496ee10cf870');\n",
              "          const dataTable =\n",
              "            await google.colab.kernel.invokeFunction('convertToInteractive',\n",
              "                                                     [key], {});\n",
              "          if (!dataTable) return;\n",
              "\n",
              "          const docLinkHtml = 'Like what you see? Visit the ' +\n",
              "            '<a target=\"_blank\" href=https://colab.research.google.com/notebooks/data_table.ipynb>data table notebook</a>'\n",
              "            + ' to learn more about interactive tables.';\n",
              "          element.innerHTML = '';\n",
              "          dataTable['output_type'] = 'display_data';\n",
              "          await google.colab.output.renderOutput(dataTable, element);\n",
              "          const docLink = document.createElement('div');\n",
              "          docLink.innerHTML = docLinkHtml;\n",
              "          element.appendChild(docLink);\n",
              "        }\n",
              "      </script>\n",
              "    </div>\n",
              "  </div>\n",
              "  "
            ]
          },
          "metadata": {},
          "execution_count": 9
        }
      ]
    },
    {
      "cell_type": "code",
      "source": [
        "# Heatmap of correlation matrix\n",
        "sns.heatmap(data.corr(), cmap=\"YlGnBu\", annot=True)"
      ],
      "metadata": {
        "colab": {
          "base_uri": "https://localhost:8080/"
        },
        "id": "vqmf0PFX86n1",
        "outputId": "0826e099-a3ad-4305-818a-6f487d8d4859"
      },
      "execution_count": null,
      "outputs": [
        {
          "output_type": "execute_result",
          "data": {
            "text/plain": [
              "<matplotlib.axes._subplots.AxesSubplot at 0x7f01ec6f5a90>"
            ]
          },
          "metadata": {},
          "execution_count": 10
        },
        {
          "output_type": "display_data",
          "data": {
            "text/plain": [
              "<Figure size 432x288 with 2 Axes>"
            ],
            "image/png": "[encoded data removed]"
          },
          "metadata": {
            "needs_background": "light"
          }
        }
      ]
    },
    {
      "cell_type": "markdown",
      "source": [
        "### Feature Engineering"
      ],
      "metadata": {
        "id": "0MHSK5GfLn4F"
      }
    },
    {
      "cell_type": "code",
      "source": [
        "data.columns"
      ],
      "metadata": {
        "colab": {
          "base_uri": "https://localhost:8080/"
        },
        "id": "dlQTP4GePoCQ",
        "outputId": "75a354f9-8d93-493e-81a3-a2929324e9dd"
      },
      "execution_count": null,
      "outputs": [
        {
          "output_type": "execute_result",
          "data": {
            "text/plain": [
              "Index(['Materials Id', 'Formula', 'Spacegroup', 'Formation Energy (eV)',\n",
              "       'E Above Hull (eV)', 'Band Gap (eV)', 'Nsites', 'Density (gm/cc)',\n",
              "       'Volume', 'Has Bandstructure', 'Crystal System'],\n",
              "      dtype='object')"
            ]
          },
          "metadata": {},
          "execution_count": 11
        }
      ]
    },
    {
      "cell_type": "code",
      "source": [
        "data.dtypes"
      ],
      "metadata": {
        "colab": {
          "base_uri": "https://localhost:8080/"
        },
        "id": "4Y9BpATrQamz",
        "outputId": "2aa527a1-c015-4180-969e-2c5212ba9837"
      },
      "execution_count": null,
      "outputs": [
        {
          "output_type": "execute_result",
          "data": {
            "text/plain": [
              "Materials Id              object\n",
              "Formula                   object\n",
              "Spacegroup                object\n",
              "Formation Energy (eV)    float64\n",
              "E Above Hull (eV)        float64\n",
              "Band Gap (eV)            float64\n",
              "Nsites                     int64\n",
              "Density (gm/cc)          float64\n",
              "Volume                   float64\n",
              "Has Bandstructure           bool\n",
              "Crystal System            object\n",
              "dtype: object"
            ]
          },
          "metadata": {},
          "execution_count": 12
        }
      ]
    },
    {
      "cell_type": "code",
      "source": [
        "# No. of unique value in each feature\n",
        "for i in data.columns:\n",
        "  print(data[i].nunique())"
      ],
      "metadata": {
        "colab": {
          "base_uri": "https://localhost:8080/"
        },
        "id": "LcTclkZMSuLe",
        "outputId": "4fd47017-949e-40eb-ec0c-fe0ce14f2d4a"
      },
      "execution_count": null,
      "outputs": [
        {
          "output_type": "stream",
          "name": "stdout",
          "text": [
            "339\n",
            "114\n",
            "44\n",
            "251\n",
            "108\n",
            "307\n",
            "49\n",
            "300\n",
            "339\n",
            "2\n",
            "3\n"
          ]
        }
      ]
    },
    {
      "cell_type": "code",
      "source": [
        "# Get numerical and categorical features\n",
        "# perform Feature engineering on numerical features\n",
        "numerical_feat = data.select_dtypes(include=['int64','float64']).columns\n",
        "categorical_feat = data.select_dtypes(include=['object','bool']).columns"
      ],
      "metadata": {
        "id": "IkqWFPSzl65D"
      },
      "execution_count": null,
      "outputs": []
    },
    {
      "cell_type": "code",
      "source": [
        "numerical_feat"
      ],
      "metadata": {
        "colab": {
          "base_uri": "https://localhost:8080/"
        },
        "id": "jgRIGT8ymL4F",
        "outputId": "929d61e0-0056-4277-af5a-b93706648e42"
      },
      "execution_count": null,
      "outputs": [
        {
          "output_type": "execute_result",
          "data": {
            "text/plain": [
              "Index(['Formation Energy (eV)', 'E Above Hull (eV)', 'Band Gap (eV)', 'Nsites',\n",
              "       'Density (gm/cc)', 'Volume'],\n",
              "      dtype='object')"
            ]
          },
          "metadata": {},
          "execution_count": 15
        }
      ]
    },
    {
      "cell_type": "code",
      "source": [
        "categorical_feat"
      ],
      "metadata": {
        "colab": {
          "base_uri": "https://localhost:8080/"
        },
        "id": "QLA8afbamTdY",
        "outputId": "efc83467-03a1-46bb-f7f7-e6dcd79f2631"
      },
      "execution_count": null,
      "outputs": [
        {
          "output_type": "execute_result",
          "data": {
            "text/plain": [
              "Index(['Materials Id', 'Formula', 'Spacegroup', 'Has Bandstructure',\n",
              "       'Crystal System'],\n",
              "      dtype='object')"
            ]
          },
          "metadata": {},
          "execution_count": 16
        }
      ]
    },
    {
      "cell_type": "code",
      "source": [
        "data[categorical_feat].describe()"
      ],
      "metadata": {
        "colab": {
          "base_uri": "https://localhost:8080/"
        },
        "id": "QcrevC4CR3Cd",
        "outputId": "419841d0-2e23-4d0a-fda3-7fb8522b7c98"
      },
      "execution_count": null,
      "outputs": [
        {
          "output_type": "execute_result",
          "data": {
            "text/plain": [
              "       Materials Id   Formula Spacegroup Has Bandstructure Crystal System\n",
              "count           339       339        339               339            339\n",
              "unique          339       114         44                 2              3\n",
              "top       mp-849394  LiFeSiO4         P1              True     monoclinic\n",
              "freq              1        42         72               274            139"
            ],
            "text/html": [
              "\n",
              "  <div id=\"df-bb9b43e6-1164-4518-a8bb-ecbdb13d8d50\">\n",
              "    <div class=\"colab-df-container\">\n",
              "      <div>\n",
              "<style scoped>\n",
              "    .dataframe tbody tr th:only-of-type {\n",
              "        vertical-align: middle;\n",
              "    }\n",
              "\n",
              "    .dataframe tbody tr th {\n",
              "        vertical-align: top;\n",
              "    }\n",
              "\n",
              "    .dataframe thead th {\n",
              "        text-align: right;\n",
              "    }\n",
              "</style>\n",
              "<table border=\"1\" class=\"dataframe\">\n",
              "  <thead>\n",
              "    <tr style=\"text-align: right;\">\n",
              "      <th></th>\n",
              "      <th>Materials Id</th>\n",
              "      <th>Formula</th>\n",
              "      <th>Spacegroup</th>\n",
              "      <th>Has Bandstructure</th>\n",
              "      <th>Crystal System</th>\n",
              "    </tr>\n",
              "  </thead>\n",
              "  <tbody>\n",
              "    <tr>\n",
              "      <th>count</th>\n",
              "      <td>339</td>\n",
              "      <td>339</td>\n",
              "      <td>339</td>\n",
              "      <td>339</td>\n",
              "      <td>339</td>\n",
              "    </tr>\n",
              "    <tr>\n",
              "      <th>unique</th>\n",
              "      <td>339</td>\n",
              "      <td>114</td>\n",
              "      <td>44</td>\n",
              "      <td>2</td>\n",
              "      <td>3</td>\n",
              "    </tr>\n",
              "    <tr>\n",
              "      <th>top</th>\n",
              "      <td>mp-849394</td>\n",
              "      <td>LiFeSiO4</td>\n",
              "      <td>P1</td>\n",
              "      <td>True</td>\n",
              "      <td>monoclinic</td>\n",
              "    </tr>\n",
              "    <tr>\n",
              "      <th>freq</th>\n",
              "      <td>1</td>\n",
              "      <td>42</td>\n",
              "      <td>72</td>\n",
              "      <td>274</td>\n",
              "      <td>139</td>\n",
              "    </tr>\n",
              "  </tbody>\n",
              "</table>\n",
              "</div>\n",
              "      <button class=\"colab-df-convert\" onclick=\"convertToInteractive('df-bb9b43e6-1164-4518-a8bb-ecbdb13d8d50')\"\n",
              "              title=\"Convert this dataframe to an interactive table.\"\n",
              "              style=\"display:none;\">\n",
              "        \n",
              "  <svg xmlns=\"http://www.w3.org/2000/svg\" height=\"24px\"viewBox=\"0 0 24 24\"\n",
              "       width=\"24px\">\n",
              "    <path d=\"M0 0h24v24H0V0z\" fill=\"none\"/>\n",
              "    <path d=\"M18.56 5.44l.94 2.06.94-2.06 2.06-.94-2.06-.94-.94-2.06-.94 2.06-2.06.94zm-11 1L8.5 8.5l.94-2.06 2.06-.94-2.06-.94L8.5 2.5l-.94 2.06-2.06.94zm10 10l.94 2.06.94-2.06 2.06-.94-2.06-.94-.94-2.06-.94 2.06-2.06.94z\"/><path d=\"M17.41 7.96l-1.37-1.37c-.4-.4-.92-.59-1.43-.59-.52 0-1.04.2-1.43.59L10.3 9.45l-7.72 7.72c-.78.78-.78 2.05 0 2.83L4 21.41c.39.39.9.59 1.41.59.51 0 1.02-.2 1.41-.59l7.78-7.78 2.81-2.81c.8-.78.8-2.07 0-2.86zM5.41 20L4 18.59l7.72-7.72 1.47 1.35L5.41 20z\"/>\n",
              "  </svg>\n",
              "      </button>\n",
              "      \n",
              "  <style>\n",
              "    .colab-df-container {\n",
              "      display:flex;\n",
              "      flex-wrap:wrap;\n",
              "      gap: 12px;\n",
              "    }\n",
              "\n",
              "    .colab-df-convert {\n",
              "      background-color: #E8F0FE;\n",
              "      border: none;\n",
              "      border-radius: 50%;\n",
              "      cursor: pointer;\n",
              "      display: none;\n",
              "      fill: #1967D2;\n",
              "      height: 32px;\n",
              "      padding: 0 0 0 0;\n",
              "      width: 32px;\n",
              "    }\n",
              "\n",
              "    .colab-df-convert:hover {\n",
              "      background-color: #E2EBFA;\n",
              "      box-shadow: 0px 1px 2px rgba(60, 64, 67, 0.3), 0px 1px 3px 1px rgba(60, 64, 67, 0.15);\n",
              "      fill: #174EA6;\n",
              "    }\n",
              "\n",
              "    [theme=dark] .colab-df-convert {\n",
              "      background-color: #3B4455;\n",
              "      fill: #D2E3FC;\n",
              "    }\n",
              "\n",
              "    [theme=dark] .colab-df-convert:hover {\n",
              "      background-color: #434B5C;\n",
              "      box-shadow: 0px 1px 3px 1px rgba(0, 0, 0, 0.15);\n",
              "      filter: drop-shadow(0px 1px 2px rgba(0, 0, 0, 0.3));\n",
              "      fill: #FFFFFF;\n",
              "    }\n",
              "  </style>\n",
              "\n",
              "      <script>\n",
              "        const buttonEl =\n",
              "          document.querySelector('#df-bb9b43e6-1164-4518-a8bb-ecbdb13d8d50 button.colab-df-convert');\n",
              "        buttonEl.style.display =\n",
              "          google.colab.kernel.accessAllowed ? 'block' : 'none';\n",
              "\n",
              "        async function convertToInteractive(key) {\n",
              "          const element = document.querySelector('#df-bb9b43e6-1164-4518-a8bb-ecbdb13d8d50');\n",
              "          const dataTable =\n",
              "            await google.colab.kernel.invokeFunction('convertToInteractive',\n",
              "                                                     [key], {});\n",
              "          if (!dataTable) return;\n",
              "\n",
              "          const docLinkHtml = 'Like what you see? Visit the ' +\n",
              "            '<a target=\"_blank\" href=https://colab.research.google.com/notebooks/data_table.ipynb>data table notebook</a>'\n",
              "            + ' to learn more about interactive tables.';\n",
              "          element.innerHTML = '';\n",
              "          dataTable['output_type'] = 'display_data';\n",
              "          await google.colab.output.renderOutput(dataTable, element);\n",
              "          const docLink = document.createElement('div');\n",
              "          docLink.innerHTML = docLinkHtml;\n",
              "          element.appendChild(docLink);\n",
              "        }\n",
              "      </script>\n",
              "    </div>\n",
              "  </div>\n",
              "  "
            ]
          },
          "metadata": {},
          "execution_count": 17
        }
      ]
    },
    {
      "cell_type": "code",
      "source": [
        "# Drop Materials Id column as it is not an important feature because it is categorical has all unique values\n",
        "data = data.drop(['Materials Id'], axis=1)"
      ],
      "metadata": {
        "id": "eXaPZ_eyk9pT"
      },
      "execution_count": null,
      "outputs": []
    },
    {
      "cell_type": "code",
      "source": [
        "data.head()"
      ],
      "metadata": {
        "colab": {
          "base_uri": "https://localhost:8080/"
        },
        "id": "RvrZCeDDhiwo",
        "outputId": "b317ee85-9a1c-4fc0-b916-f5576490f0e9"
      },
      "execution_count": null,
      "outputs": [
        {
          "output_type": "execute_result",
          "data": {
            "text/plain": [
              "        Formula Spacegroup  Formation Energy (eV)  E Above Hull (eV)  \\\n",
              "0     Li2MnSiO4         Pc                 -2.699              0.006   \n",
              "1     Li2MnSiO4      P21/c                 -2.696              0.008   \n",
              "2    Li4MnSi2O7         Cc                 -2.775              0.012   \n",
              "3  Li4Mn2Si3O10       C2/c                 -2.783              0.013   \n",
              "4  Li2Mn3Si3O10       C2/c                 -2.747              0.016   \n",
              "\n",
              "   Band Gap (eV)  Nsites  Density (gm/cc)   Volume  Has Bandstructure  \\\n",
              "0          3.462      16            2.993  178.513               True   \n",
              "1          2.879      32            2.926  365.272               True   \n",
              "2          3.653      28            2.761  301.775               True   \n",
              "3          3.015      38            2.908  436.183               True   \n",
              "4          2.578      36            3.334  421.286               True   \n",
              "\n",
              "  Crystal System  \n",
              "0     monoclinic  \n",
              "1     monoclinic  \n",
              "2     monoclinic  \n",
              "3     monoclinic  \n",
              "4     monoclinic  "
            ],
            "text/html": [
              "\n",
              "  <div id=\"df-c6287081-5e69-45f3-9452-7a3964085cdc\">\n",
              "    <div class=\"colab-df-container\">\n",
              "      <div>\n",
              "<style scoped>\n",
              "    .dataframe tbody tr th:only-of-type {\n",
              "        vertical-align: middle;\n",
              "    }\n",
              "\n",
              "    .dataframe tbody tr th {\n",
              "        vertical-align: top;\n",
              "    }\n",
              "\n",
              "    .dataframe thead th {\n",
              "        text-align: right;\n",
              "    }\n",
              "</style>\n",
              "<table border=\"1\" class=\"dataframe\">\n",
              "  <thead>\n",
              "    <tr style=\"text-align: right;\">\n",
              "      <th></th>\n",
              "      <th>Formula</th>\n",
              "      <th>Spacegroup</th>\n",
              "      <th>Formation Energy (eV)</th>\n",
              "      <th>E Above Hull (eV)</th>\n",
              "      <th>Band Gap (eV)</th>\n",
              "      <th>Nsites</th>\n",
              "      <th>Density (gm/cc)</th>\n",
              "      <th>Volume</th>\n",
              "      <th>Has Bandstructure</th>\n",
              "      <th>Crystal System</th>\n",
              "    </tr>\n",
              "  </thead>\n",
              "  <tbody>\n",
              "    <tr>\n",
              "      <th>0</th>\n",
              "      <td>Li2MnSiO4</td>\n",
              "      <td>Pc</td>\n",
              "      <td>-2.699</td>\n",
              "      <td>0.006</td>\n",
              "      <td>3.462</td>\n",
              "      <td>16</td>\n",
              "      <td>2.993</td>\n",
              "      <td>178.513</td>\n",
              "      <td>True</td>\n",
              "      <td>monoclinic</td>\n",
              "    </tr>\n",
              "    <tr>\n",
              "      <th>1</th>\n",
              "      <td>Li2MnSiO4</td>\n",
              "      <td>P21/c</td>\n",
              "      <td>-2.696</td>\n",
              "      <td>0.008</td>\n",
              "      <td>2.879</td>\n",
              "      <td>32</td>\n",
              "      <td>2.926</td>\n",
              "      <td>365.272</td>\n",
              "      <td>True</td>\n",
              "      <td>monoclinic</td>\n",
              "    </tr>\n",
              "    <tr>\n",
              "      <th>2</th>\n",
              "      <td>Li4MnSi2O7</td>\n",
              "      <td>Cc</td>\n",
              "      <td>-2.775</td>\n",
              "      <td>0.012</td>\n",
              "      <td>3.653</td>\n",
              "      <td>28</td>\n",
              "      <td>2.761</td>\n",
              "      <td>301.775</td>\n",
              "      <td>True</td>\n",
              "      <td>monoclinic</td>\n",
              "    </tr>\n",
              "    <tr>\n",
              "      <th>3</th>\n",
              "      <td>Li4Mn2Si3O10</td>\n",
              "      <td>C2/c</td>\n",
              "      <td>-2.783</td>\n",
              "      <td>0.013</td>\n",
              "      <td>3.015</td>\n",
              "      <td>38</td>\n",
              "      <td>2.908</td>\n",
              "      <td>436.183</td>\n",
              "      <td>True</td>\n",
              "      <td>monoclinic</td>\n",
              "    </tr>\n",
              "    <tr>\n",
              "      <th>4</th>\n",
              "      <td>Li2Mn3Si3O10</td>\n",
              "      <td>C2/c</td>\n",
              "      <td>-2.747</td>\n",
              "      <td>0.016</td>\n",
              "      <td>2.578</td>\n",
              "      <td>36</td>\n",
              "      <td>3.334</td>\n",
              "      <td>421.286</td>\n",
              "      <td>True</td>\n",
              "      <td>monoclinic</td>\n",
              "    </tr>\n",
              "  </tbody>\n",
              "</table>\n",
              "</div>\n",
              "      <button class=\"colab-df-convert\" onclick=\"convertToInteractive('df-c6287081-5e69-45f3-9452-7a3964085cdc')\"\n",
              "              title=\"Convert this dataframe to an interactive table.\"\n",
              "              style=\"display:none;\">\n",
              "        \n",
              "  <svg xmlns=\"http://www.w3.org/2000/svg\" height=\"24px\"viewBox=\"0 0 24 24\"\n",
              "       width=\"24px\">\n",
              "    <path d=\"M0 0h24v24H0V0z\" fill=\"none\"/>\n",
              "    <path d=\"M18.56 5.44l.94 2.06.94-2.06 2.06-.94-2.06-.94-.94-2.06-.94 2.06-2.06.94zm-11 1L8.5 8.5l.94-2.06 2.06-.94-2.06-.94L8.5 2.5l-.94 2.06-2.06.94zm10 10l.94 2.06.94-2.06 2.06-.94-2.06-.94-.94-2.06-.94 2.06-2.06.94z\"/><path d=\"M17.41 7.96l-1.37-1.37c-.4-.4-.92-.59-1.43-.59-.52 0-1.04.2-1.43.59L10.3 9.45l-7.72 7.72c-.78.78-.78 2.05 0 2.83L4 21.41c.39.39.9.59 1.41.59.51 0 1.02-.2 1.41-.59l7.78-7.78 2.81-2.81c.8-.78.8-2.07 0-2.86zM5.41 20L4 18.59l7.72-7.72 1.47 1.35L5.41 20z\"/>\n",
              "  </svg>\n",
              "      </button>\n",
              "      \n",
              "  <style>\n",
              "    .colab-df-container {\n",
              "      display:flex;\n",
              "      flex-wrap:wrap;\n",
              "      gap: 12px;\n",
              "    }\n",
              "\n",
              "    .colab-df-convert {\n",
              "      background-color: #E8F0FE;\n",
              "      border: none;\n",
              "      border-radius: 50%;\n",
              "      cursor: pointer;\n",
              "      display: none;\n",
              "      fill: #1967D2;\n",
              "      height: 32px;\n",
              "      padding: 0 0 0 0;\n",
              "      width: 32px;\n",
              "    }\n",
              "\n",
              "    .colab-df-convert:hover {\n",
              "      background-color: #E2EBFA;\n",
              "      box-shadow: 0px 1px 2px rgba(60, 64, 67, 0.3), 0px 1px 3px 1px rgba(60, 64, 67, 0.15);\n",
              "      fill: #174EA6;\n",
              "    }\n",
              "\n",
              "    [theme=dark] .colab-df-convert {\n",
              "      background-color: #3B4455;\n",
              "      fill: #D2E3FC;\n",
              "    }\n",
              "\n",
              "    [theme=dark] .colab-df-convert:hover {\n",
              "      background-color: #434B5C;\n",
              "      box-shadow: 0px 1px 3px 1px rgba(0, 0, 0, 0.15);\n",
              "      filter: drop-shadow(0px 1px 2px rgba(0, 0, 0, 0.3));\n",
              "      fill: #FFFFFF;\n",
              "    }\n",
              "  </style>\n",
              "\n",
              "      <script>\n",
              "        const buttonEl =\n",
              "          document.querySelector('#df-c6287081-5e69-45f3-9452-7a3964085cdc button.colab-df-convert');\n",
              "        buttonEl.style.display =\n",
              "          google.colab.kernel.accessAllowed ? 'block' : 'none';\n",
              "\n",
              "        async function convertToInteractive(key) {\n",
              "          const element = document.querySelector('#df-c6287081-5e69-45f3-9452-7a3964085cdc');\n",
              "          const dataTable =\n",
              "            await google.colab.kernel.invokeFunction('convertToInteractive',\n",
              "                                                     [key], {});\n",
              "          if (!dataTable) return;\n",
              "\n",
              "          const docLinkHtml = 'Like what you see? Visit the ' +\n",
              "            '<a target=\"_blank\" href=https://colab.research.google.com/notebooks/data_table.ipynb>data table notebook</a>'\n",
              "            + ' to learn more about interactive tables.';\n",
              "          element.innerHTML = '';\n",
              "          dataTable['output_type'] = 'display_data';\n",
              "          await google.colab.output.renderOutput(dataTable, element);\n",
              "          const docLink = document.createElement('div');\n",
              "          docLink.innerHTML = docLinkHtml;\n",
              "          element.appendChild(docLink);\n",
              "        }\n",
              "      </script>\n",
              "    </div>\n",
              "  </div>\n",
              "  "
            ]
          },
          "metadata": {},
          "execution_count": 19
        }
      ]
    },
    {
      "cell_type": "markdown",
      "source": [
        "##### One hot encoding on 'Has Bandstructure' column\n",
        "##### This feature column has only 2 unique values"
      ],
      "metadata": {
        "id": "JaiNZYxIEt4p"
      }
    },
    {
      "cell_type": "code",
      "source": [
        "data['Has Bandstructure'].value_counts()"
      ],
      "metadata": {
        "colab": {
          "base_uri": "https://localhost:8080/"
        },
        "id": "gFPVpRejqGSR",
        "outputId": "71ab5082-ec12-447b-d917-a24950a18e21"
      },
      "execution_count": null,
      "outputs": [
        {
          "output_type": "execute_result",
          "data": {
            "text/plain": [
              "True     274\n",
              "False     65\n",
              "Name: Has Bandstructure, dtype: int64"
            ]
          },
          "metadata": {},
          "execution_count": 20
        }
      ]
    },
    {
      "cell_type": "code",
      "source": [
        "# One hot encoding\n",
        "data['Has Bandstructure'] = data['Has Bandstructure'].map({True:1, False:0})\n",
        "# can also be done by get_dummies"
      ],
      "metadata": {
        "id": "KBLHcNXmq5h2"
      },
      "execution_count": null,
      "outputs": []
    },
    {
      "cell_type": "markdown",
      "source": [
        "##### Label encoding and Ordinal number encoding for 'Spacegroup' column\n",
        "##### label encoding: Encode target labels with value between 0 and n_classes-1.\n",
        "##### ordinal encoding: Encode categorical features as an integer array.\n",
        "##### both have the same functionality. A bit difference is the idea behind. OrdinalEncoder is for converting features, while LabelEncoder is for converting target variable."
      ],
      "metadata": {
        "id": "M2qGpVfgFQEt"
      }
    },
    {
      "cell_type": "code",
      "source": [
        "from sklearn import preprocessing\n",
        "\n",
        "# label_encoder object knows how to understand word labels.\n",
        "label_encoder = preprocessing.LabelEncoder()\n",
        "\n",
        "# Encode labels in column 'species'.\n",
        "data['Spacegroup']= label_encoder.fit_transform(data['Spacegroup'])\n",
        "\n",
        "data['Spacegroup'].unique()"
      ],
      "metadata": {
        "colab": {
          "base_uri": "https://localhost:8080/"
        },
        "id": "dJeUvr-8rEIn",
        "outputId": "e6e8282f-d476-4ec3-daca-94efb3da6307"
      },
      "execution_count": null,
      "outputs": [
        {
          "output_type": "execute_result",
          "data": {
            "text/plain": [
              "array([31, 21,  6,  1,  0, 20,  2, 19, 18, 17, 22, 26, 34, 38, 40,  4, 11,\n",
              "       29,  5, 28,  8,  9, 33, 43, 30, 37, 23, 25, 35, 42, 12, 15, 24,  3,\n",
              "       39, 32, 27, 41, 10, 13, 36, 14,  7, 16])"
            ]
          },
          "metadata": {},
          "execution_count": 22
        }
      ]
    },
    {
      "cell_type": "code",
      "source": [
        "data['Spacegroup'].nunique()"
      ],
      "metadata": {
        "colab": {
          "base_uri": "https://localhost:8080/"
        },
        "id": "xse4K8sXIC8M",
        "outputId": "fa5e2ccd-f18a-47c3-b673-0ce5184b6c9f"
      },
      "execution_count": null,
      "outputs": [
        {
          "output_type": "execute_result",
          "data": {
            "text/plain": [
              "44"
            ]
          },
          "metadata": {},
          "execution_count": 23
        }
      ]
    },
    {
      "cell_type": "code",
      "source": [
        "data['Spacegroup'].value_counts()"
      ],
      "metadata": {
        "colab": {
          "base_uri": "https://localhost:8080/"
        },
        "id": "wgQHfzG5IMw_",
        "outputId": "259423a3-caa9-4664-9a28-db588a429c35"
      },
      "execution_count": null,
      "outputs": [
        {
          "output_type": "execute_result",
          "data": {
            "text/plain": [
              "16    72\n",
              "21    32\n",
              "31    27\n",
              "20    23\n",
              "6     16\n",
              "1     15\n",
              "0     12\n",
              "40    12\n",
              "34     8\n",
              "25     8\n",
              "43     8\n",
              "2      6\n",
              "4      6\n",
              "11     6\n",
              "29     6\n",
              "5      6\n",
              "28     6\n",
              "8      6\n",
              "32     6\n",
              "23     6\n",
              "27     5\n",
              "30     4\n",
              "38     4\n",
              "3      3\n",
              "26     3\n",
              "33     3\n",
              "9      3\n",
              "19     3\n",
              "15     2\n",
              "10     2\n",
              "17     2\n",
              "37     2\n",
              "42     2\n",
              "35     2\n",
              "22     2\n",
              "39     2\n",
              "24     1\n",
              "18     1\n",
              "12     1\n",
              "41     1\n",
              "13     1\n",
              "36     1\n",
              "14     1\n",
              "7      1\n",
              "Name: Spacegroup, dtype: int64"
            ]
          },
          "metadata": {},
          "execution_count": 24
        }
      ]
    },
    {
      "cell_type": "code",
      "source": [
        "# Ordinal number encoding\n",
        "data['Spacegroup (ordinal)'] = pd.factorize(data['Spacegroup'])[0]\n",
        "\n",
        "# Can also order by most common to least common\n",
        "data['Spacegroup'].rank(method=\"dense\").astype(int)"
      ],
      "metadata": {
        "colab": {
          "base_uri": "https://localhost:8080/"
        },
        "id": "1GOagSWTIvLn",
        "outputId": "4cd738f1-1377-4220-82cf-aede2b906452"
      },
      "execution_count": null,
      "outputs": [
        {
          "output_type": "execute_result",
          "data": {
            "text/plain": [
              "0      32\n",
              "1      22\n",
              "2       7\n",
              "3       2\n",
              "4       2\n",
              "       ..\n",
              "334    17\n",
              "335    17\n",
              "336    17\n",
              "337    17\n",
              "338    17\n",
              "Name: Spacegroup, Length: 339, dtype: int64"
            ]
          },
          "metadata": {},
          "execution_count": 25
        }
      ]
    },
    {
      "cell_type": "markdown",
      "source": [
        "#### Label encoding for 'Crystal System' column"
      ],
      "metadata": {
        "id": "ToUGoBmTGv9M"
      }
    },
    {
      "cell_type": "code",
      "source": [
        "from sklearn import preprocessing\n",
        "\n",
        "# label_encoder object knows how to understand word labels.\n",
        "label_encoder = preprocessing.LabelEncoder()\n",
        "\n",
        "# Encode labels in column 'species'.\n",
        "data['Crystal System']= label_encoder.fit_transform(data['Crystal System'])\n",
        "\n",
        "data['Crystal System'].unique()"
      ],
      "metadata": {
        "colab": {
          "base_uri": "https://localhost:8080/"
        },
        "id": "S0UDpjJDKvnN",
        "outputId": "94662b69-b3ce-4ebb-9633-5bc822eccb3f"
      },
      "execution_count": null,
      "outputs": [
        {
          "output_type": "execute_result",
          "data": {
            "text/plain": [
              "array([0, 1, 2])"
            ]
          },
          "metadata": {},
          "execution_count": 26
        }
      ]
    },
    {
      "cell_type": "code",
      "source": [
        "data.head()"
      ],
      "metadata": {
        "colab": {
          "base_uri": "https://localhost:8080/"
        },
        "id": "QnliJJvvOP2L",
        "outputId": "56bca88c-5537-4a5a-9df6-00bb94934a51"
      },
      "execution_count": null,
      "outputs": [
        {
          "output_type": "execute_result",
          "data": {
            "text/plain": [
              "        Formula  Spacegroup  Formation Energy (eV)  E Above Hull (eV)  \\\n",
              "0     Li2MnSiO4          31                 -2.699              0.006   \n",
              "1     Li2MnSiO4          21                 -2.696              0.008   \n",
              "2    Li4MnSi2O7           6                 -2.775              0.012   \n",
              "3  Li4Mn2Si3O10           1                 -2.783              0.013   \n",
              "4  Li2Mn3Si3O10           1                 -2.747              0.016   \n",
              "\n",
              "   Band Gap (eV)  Nsites  Density (gm/cc)   Volume  Has Bandstructure  \\\n",
              "0          3.462      16            2.993  178.513                  1   \n",
              "1          2.879      32            2.926  365.272                  1   \n",
              "2          3.653      28            2.761  301.775                  1   \n",
              "3          3.015      38            2.908  436.183                  1   \n",
              "4          2.578      36            3.334  421.286                  1   \n",
              "\n",
              "   Crystal System  Spacegroup (ordinal)  \n",
              "0               0                     0  \n",
              "1               0                     1  \n",
              "2               0                     2  \n",
              "3               0                     3  \n",
              "4               0                     3  "
            ],
            "text/html": [
              "\n",
              "  <div id=\"df-f62b8a90-7e74-4956-a09e-3716cc7fc111\">\n",
              "    <div class=\"colab-df-container\">\n",
              "      <div>\n",
              "<style scoped>\n",
              "    .dataframe tbody tr th:only-of-type {\n",
              "        vertical-align: middle;\n",
              "    }\n",
              "\n",
              "    .dataframe tbody tr th {\n",
              "        vertical-align: top;\n",
              "    }\n",
              "\n",
              "    .dataframe thead th {\n",
              "        text-align: right;\n",
              "    }\n",
              "</style>\n",
              "<table border=\"1\" class=\"dataframe\">\n",
              "  <thead>\n",
              "    <tr style=\"text-align: right;\">\n",
              "      <th></th>\n",
              "      <th>Formula</th>\n",
              "      <th>Spacegroup</th>\n",
              "      <th>Formation Energy (eV)</th>\n",
              "      <th>E Above Hull (eV)</th>\n",
              "      <th>Band Gap (eV)</th>\n",
              "      <th>Nsites</th>\n",
              "      <th>Density (gm/cc)</th>\n",
              "      <th>Volume</th>\n",
              "      <th>Has Bandstructure</th>\n",
              "      <th>Crystal System</th>\n",
              "      <th>Spacegroup (ordinal)</th>\n",
              "    </tr>\n",
              "  </thead>\n",
              "  <tbody>\n",
              "    <tr>\n",
              "      <th>0</th>\n",
              "      <td>Li2MnSiO4</td>\n",
              "      <td>31</td>\n",
              "      <td>-2.699</td>\n",
              "      <td>0.006</td>\n",
              "      <td>3.462</td>\n",
              "      <td>16</td>\n",
              "      <td>2.993</td>\n",
              "      <td>178.513</td>\n",
              "      <td>1</td>\n",
              "      <td>0</td>\n",
              "      <td>0</td>\n",
              "    </tr>\n",
              "    <tr>\n",
              "      <th>1</th>\n",
              "      <td>Li2MnSiO4</td>\n",
              "      <td>21</td>\n",
              "      <td>-2.696</td>\n",
              "      <td>0.008</td>\n",
              "      <td>2.879</td>\n",
              "      <td>32</td>\n",
              "      <td>2.926</td>\n",
              "      <td>365.272</td>\n",
              "      <td>1</td>\n",
              "      <td>0</td>\n",
              "      <td>1</td>\n",
              "    </tr>\n",
              "    <tr>\n",
              "      <th>2</th>\n",
              "      <td>Li4MnSi2O7</td>\n",
              "      <td>6</td>\n",
              "      <td>-2.775</td>\n",
              "      <td>0.012</td>\n",
              "      <td>3.653</td>\n",
              "      <td>28</td>\n",
              "      <td>2.761</td>\n",
              "      <td>301.775</td>\n",
              "      <td>1</td>\n",
              "      <td>0</td>\n",
              "      <td>2</td>\n",
              "    </tr>\n",
              "    <tr>\n",
              "      <th>3</th>\n",
              "      <td>Li4Mn2Si3O10</td>\n",
              "      <td>1</td>\n",
              "      <td>-2.783</td>\n",
              "      <td>0.013</td>\n",
              "      <td>3.015</td>\n",
              "      <td>38</td>\n",
              "      <td>2.908</td>\n",
              "      <td>436.183</td>\n",
              "      <td>1</td>\n",
              "      <td>0</td>\n",
              "      <td>3</td>\n",
              "    </tr>\n",
              "    <tr>\n",
              "      <th>4</th>\n",
              "      <td>Li2Mn3Si3O10</td>\n",
              "      <td>1</td>\n",
              "      <td>-2.747</td>\n",
              "      <td>0.016</td>\n",
              "      <td>2.578</td>\n",
              "      <td>36</td>\n",
              "      <td>3.334</td>\n",
              "      <td>421.286</td>\n",
              "      <td>1</td>\n",
              "      <td>0</td>\n",
              "      <td>3</td>\n",
              "    </tr>\n",
              "  </tbody>\n",
              "</table>\n",
              "</div>\n",
              "      <button class=\"colab-df-convert\" onclick=\"convertToInteractive('df-f62b8a90-7e74-4956-a09e-3716cc7fc111')\"\n",
              "              title=\"Convert this dataframe to an interactive table.\"\n",
              "              style=\"display:none;\">\n",
              "        \n",
              "  <svg xmlns=\"http://www.w3.org/2000/svg\" height=\"24px\"viewBox=\"0 0 24 24\"\n",
              "       width=\"24px\">\n",
              "    <path d=\"M0 0h24v24H0V0z\" fill=\"none\"/>\n",
              "    <path d=\"M18.56 5.44l.94 2.06.94-2.06 2.06-.94-2.06-.94-.94-2.06-.94 2.06-2.06.94zm-11 1L8.5 8.5l.94-2.06 2.06-.94-2.06-.94L8.5 2.5l-.94 2.06-2.06.94zm10 10l.94 2.06.94-2.06 2.06-.94-2.06-.94-.94-2.06-.94 2.06-2.06.94z\"/><path d=\"M17.41 7.96l-1.37-1.37c-.4-.4-.92-.59-1.43-.59-.52 0-1.04.2-1.43.59L10.3 9.45l-7.72 7.72c-.78.78-.78 2.05 0 2.83L4 21.41c.39.39.9.59 1.41.59.51 0 1.02-.2 1.41-.59l7.78-7.78 2.81-2.81c.8-.78.8-2.07 0-2.86zM5.41 20L4 18.59l7.72-7.72 1.47 1.35L5.41 20z\"/>\n",
              "  </svg>\n",
              "      </button>\n",
              "      \n",
              "  <style>\n",
              "    .colab-df-container {\n",
              "      display:flex;\n",
              "      flex-wrap:wrap;\n",
              "      gap: 12px;\n",
              "    }\n",
              "\n",
              "    .colab-df-convert {\n",
              "      background-color: #E8F0FE;\n",
              "      border: none;\n",
              "      border-radius: 50%;\n",
              "      cursor: pointer;\n",
              "      display: none;\n",
              "      fill: #1967D2;\n",
              "      height: 32px;\n",
              "      padding: 0 0 0 0;\n",
              "      width: 32px;\n",
              "    }\n",
              "\n",
              "    .colab-df-convert:hover {\n",
              "      background-color: #E2EBFA;\n",
              "      box-shadow: 0px 1px 2px rgba(60, 64, 67, 0.3), 0px 1px 3px 1px rgba(60, 64, 67, 0.15);\n",
              "      fill: #174EA6;\n",
              "    }\n",
              "\n",
              "    [theme=dark] .colab-df-convert {\n",
              "      background-color: #3B4455;\n",
              "      fill: #D2E3FC;\n",
              "    }\n",
              "\n",
              "    [theme=dark] .colab-df-convert:hover {\n",
              "      background-color: #434B5C;\n",
              "      box-shadow: 0px 1px 3px 1px rgba(0, 0, 0, 0.15);\n",
              "      filter: drop-shadow(0px 1px 2px rgba(0, 0, 0, 0.3));\n",
              "      fill: #FFFFFF;\n",
              "    }\n",
              "  </style>\n",
              "\n",
              "      <script>\n",
              "        const buttonEl =\n",
              "          document.querySelector('#df-f62b8a90-7e74-4956-a09e-3716cc7fc111 button.colab-df-convert');\n",
              "        buttonEl.style.display =\n",
              "          google.colab.kernel.accessAllowed ? 'block' : 'none';\n",
              "\n",
              "        async function convertToInteractive(key) {\n",
              "          const element = document.querySelector('#df-f62b8a90-7e74-4956-a09e-3716cc7fc111');\n",
              "          const dataTable =\n",
              "            await google.colab.kernel.invokeFunction('convertToInteractive',\n",
              "                                                     [key], {});\n",
              "          if (!dataTable) return;\n",
              "\n",
              "          const docLinkHtml = 'Like what you see? Visit the ' +\n",
              "            '<a target=\"_blank\" href=https://colab.research.google.com/notebooks/data_table.ipynb>data table notebook</a>'\n",
              "            + ' to learn more about interactive tables.';\n",
              "          element.innerHTML = '';\n",
              "          dataTable['output_type'] = 'display_data';\n",
              "          await google.colab.output.renderOutput(dataTable, element);\n",
              "          const docLink = document.createElement('div');\n",
              "          docLink.innerHTML = docLinkHtml;\n",
              "          element.appendChild(docLink);\n",
              "        }\n",
              "      </script>\n",
              "    </div>\n",
              "  </div>\n",
              "  "
            ]
          },
          "metadata": {},
          "execution_count": 27
        }
      ]
    },
    {
      "cell_type": "markdown",
      "source": [
        "#### Onehotencoding with many categorical variables for ' Formula' column"
      ],
      "metadata": {
        "id": "9-vr5l7TKouS"
      }
    },
    {
      "cell_type": "code",
      "source": [
        "data['Formula'].nunique()"
      ],
      "metadata": {
        "colab": {
          "base_uri": "https://localhost:8080/"
        },
        "id": "XQunTTwXOSzG",
        "outputId": "91f07356-7328-42b5-e303-8bab7d6b4afb"
      },
      "execution_count": null,
      "outputs": [
        {
          "output_type": "execute_result",
          "data": {
            "text/plain": [
              "114"
            ]
          },
          "metadata": {},
          "execution_count": 28
        }
      ]
    },
    {
      "cell_type": "code",
      "source": [
        "data['Formula'].value_counts().head(10)"
      ],
      "metadata": {
        "colab": {
          "base_uri": "https://localhost:8080/"
        },
        "id": "CZNRtHVxO8ld",
        "outputId": "ff2af41d-8e61-45c6-d856-2b02ee2d467a"
      },
      "execution_count": null,
      "outputs": [
        {
          "output_type": "execute_result",
          "data": {
            "text/plain": [
              "LiFeSiO4         42\n",
              "LiCoSiO4         29\n",
              "Li2FeSiO4        15\n",
              "Li2CoSiO4        14\n",
              "Li2MnSiO4        12\n",
              "LiMnSiO4         12\n",
              "Li3Co2(SiO4)2    10\n",
              "Li3Fe2(SiO4)2    10\n",
              "LiFe(SiO3)2      10\n",
              "Li2Mn(SiO3)2      7\n",
              "Name: Formula, dtype: int64"
            ]
          },
          "metadata": {},
          "execution_count": 29
        }
      ]
    },
    {
      "cell_type": "code",
      "source": [
        "#Onehotencoding with many categories in a feature\n",
        "lst_10=data.Formula.value_counts().sort_values(ascending=False).head(10).index\n",
        "lst_10=list(lst_10)"
      ],
      "metadata": {
        "id": "eAuhKZ84PCW3"
      },
      "execution_count": null,
      "outputs": []
    },
    {
      "cell_type": "code",
      "source": [
        "lst_10"
      ],
      "metadata": {
        "colab": {
          "base_uri": "https://localhost:8080/"
        },
        "id": "BmlYh5zGRIeO",
        "outputId": "d24e0595-5bae-42e1-fe50-7cfbab238803"
      },
      "execution_count": null,
      "outputs": [
        {
          "output_type": "execute_result",
          "data": {
            "text/plain": [
              "['LiFeSiO4',\n",
              " 'LiCoSiO4',\n",
              " 'Li2FeSiO4',\n",
              " 'Li2CoSiO4',\n",
              " 'Li2MnSiO4',\n",
              " 'LiMnSiO4',\n",
              " 'Li3Co2(SiO4)2',\n",
              " 'Li3Fe2(SiO4)2',\n",
              " 'LiFe(SiO3)2',\n",
              " 'Li2Mn(SiO3)2']"
            ]
          },
          "metadata": {},
          "execution_count": 31
        }
      ]
    },
    {
      "cell_type": "code",
      "source": [
        "for categories in lst_10:\n",
        "    data[categories]=np.where(data['Formula']==categories,1,0)"
      ],
      "metadata": {
        "id": "EZpBZ4JIRvkc"
      },
      "execution_count": null,
      "outputs": []
    },
    {
      "cell_type": "code",
      "source": [
        "lst_10.append('Formula')"
      ],
      "metadata": {
        "id": "Dz7i7BJCR6eS"
      },
      "execution_count": null,
      "outputs": []
    },
    {
      "cell_type": "code",
      "source": [
        "data[lst_10]"
      ],
      "metadata": {
        "colab": {
          "base_uri": "https://localhost:8080/"
        },
        "id": "xhjQ0O8eSJbF",
        "outputId": "dd6982e6-a238-4493-a097-92ff8e056d6c"
      },
      "execution_count": null,
      "outputs": [
        {
          "output_type": "execute_result",
          "data": {
            "text/plain": [
              "     LiFeSiO4  LiCoSiO4  Li2FeSiO4  Li2CoSiO4  Li2MnSiO4  LiMnSiO4  \\\n",
              "0           0         0          0          0          1         0   \n",
              "1           0         0          0          0          1         0   \n",
              "2           0         0          0          0          0         0   \n",
              "3           0         0          0          0          0         0   \n",
              "4           0         0          0          0          0         0   \n",
              "..        ...       ...        ...        ...        ...       ...   \n",
              "334         0         0          0          0          0         0   \n",
              "335         0         0          0          0          0         0   \n",
              "336         0         0          0          0          0         0   \n",
              "337         0         1          0          0          0         0   \n",
              "338         0         0          0          0          0         0   \n",
              "\n",
              "     Li3Co2(SiO4)2  Li3Fe2(SiO4)2  LiFe(SiO3)2  Li2Mn(SiO3)2          Formula  \n",
              "0                0              0            0             0        Li2MnSiO4  \n",
              "1                0              0            0             0        Li2MnSiO4  \n",
              "2                0              0            0             0       Li4MnSi2O7  \n",
              "3                0              0            0             0     Li4Mn2Si3O10  \n",
              "4                0              0            0             0     Li2Mn3Si3O10  \n",
              "..             ...            ...          ...           ...              ...  \n",
              "334              0              0            0             0     Li6Co(SiO4)2  \n",
              "335              0              0            0             0     LiCo3(SiO4)2  \n",
              "336              0              0            0             0  Li5Co4(Si3O10)2  \n",
              "337              0              0            0             0         LiCoSiO4  \n",
              "338              1              0            0             0    Li3Co2(SiO4)2  \n",
              "\n",
              "[339 rows x 11 columns]"
            ],
            "text/html": [
              "\n",
              "  <div id=\"df-1cd3d0f8-ddad-4383-b755-8744b808aea7\">\n",
              "    <div class=\"colab-df-container\">\n",
              "      <div>\n",
              "<style scoped>\n",
              "    .dataframe tbody tr th:only-of-type {\n",
              "        vertical-align: middle;\n",
              "    }\n",
              "\n",
              "    .dataframe tbody tr th {\n",
              "        vertical-align: top;\n",
              "    }\n",
              "\n",
              "    .dataframe thead th {\n",
              "        text-align: right;\n",
              "    }\n",
              "</style>\n",
              "<table border=\"1\" class=\"dataframe\">\n",
              "  <thead>\n",
              "    <tr style=\"text-align: right;\">\n",
              "      <th></th>\n",
              "      <th>LiFeSiO4</th>\n",
              "      <th>LiCoSiO4</th>\n",
              "      <th>Li2FeSiO4</th>\n",
              "      <th>Li2CoSiO4</th>\n",
              "      <th>Li2MnSiO4</th>\n",
              "      <th>LiMnSiO4</th>\n",
              "      <th>Li3Co2(SiO4)2</th>\n",
              "      <th>Li3Fe2(SiO4)2</th>\n",
              "      <th>LiFe(SiO3)2</th>\n",
              "      <th>Li2Mn(SiO3)2</th>\n",
              "      <th>Formula</th>\n",
              "    </tr>\n",
              "  </thead>\n",
              "  <tbody>\n",
              "    <tr>\n",
              "      <th>0</th>\n",
              "      <td>0</td>\n",
              "      <td>0</td>\n",
              "      <td>0</td>\n",
              "      <td>0</td>\n",
              "      <td>1</td>\n",
              "      <td>0</td>\n",
              "      <td>0</td>\n",
              "      <td>0</td>\n",
              "      <td>0</td>\n",
              "      <td>0</td>\n",
              "      <td>Li2MnSiO4</td>\n",
              "    </tr>\n",
              "    <tr>\n",
              "      <th>1</th>\n",
              "      <td>0</td>\n",
              "      <td>0</td>\n",
              "      <td>0</td>\n",
              "      <td>0</td>\n",
              "      <td>1</td>\n",
              "      <td>0</td>\n",
              "      <td>0</td>\n",
              "      <td>0</td>\n",
              "      <td>0</td>\n",
              "      <td>0</td>\n",
              "      <td>Li2MnSiO4</td>\n",
              "    </tr>\n",
              "    <tr>\n",
              "      <th>2</th>\n",
              "      <td>0</td>\n",
              "      <td>0</td>\n",
              "      <td>0</td>\n",
              "      <td>0</td>\n",
              "      <td>0</td>\n",
              "      <td>0</td>\n",
              "      <td>0</td>\n",
              "      <td>0</td>\n",
              "      <td>0</td>\n",
              "      <td>0</td>\n",
              "      <td>Li4MnSi2O7</td>\n",
              "    </tr>\n",
              "    <tr>\n",
              "      <th>3</th>\n",
              "      <td>0</td>\n",
              "      <td>0</td>\n",
              "      <td>0</td>\n",
              "      <td>0</td>\n",
              "      <td>0</td>\n",
              "      <td>0</td>\n",
              "      <td>0</td>\n",
              "      <td>0</td>\n",
              "      <td>0</td>\n",
              "      <td>0</td>\n",
              "      <td>Li4Mn2Si3O10</td>\n",
              "    </tr>\n",
              "    <tr>\n",
              "      <th>4</th>\n",
              "      <td>0</td>\n",
              "      <td>0</td>\n",
              "      <td>0</td>\n",
              "      <td>0</td>\n",
              "      <td>0</td>\n",
              "      <td>0</td>\n",
              "      <td>0</td>\n",
              "      <td>0</td>\n",
              "      <td>0</td>\n",
              "      <td>0</td>\n",
              "      <td>Li2Mn3Si3O10</td>\n",
              "    </tr>\n",
              "    <tr>\n",
              "      <th>...</th>\n",
              "      <td>...</td>\n",
              "      <td>...</td>\n",
              "      <td>...</td>\n",
              "      <td>...</td>\n",
              "      <td>...</td>\n",
              "      <td>...</td>\n",
              "      <td>...</td>\n",
              "      <td>...</td>\n",
              "      <td>...</td>\n",
              "      <td>...</td>\n",
              "      <td>...</td>\n",
              "    </tr>\n",
              "    <tr>\n",
              "      <th>334</th>\n",
              "      <td>0</td>\n",
              "      <td>0</td>\n",
              "      <td>0</td>\n",
              "      <td>0</td>\n",
              "      <td>0</td>\n",
              "      <td>0</td>\n",
              "      <td>0</td>\n",
              "      <td>0</td>\n",
              "      <td>0</td>\n",
              "      <td>0</td>\n",
              "      <td>Li6Co(SiO4)2</td>\n",
              "    </tr>\n",
              "    <tr>\n",
              "      <th>335</th>\n",
              "      <td>0</td>\n",
              "      <td>0</td>\n",
              "      <td>0</td>\n",
              "      <td>0</td>\n",
              "      <td>0</td>\n",
              "      <td>0</td>\n",
              "      <td>0</td>\n",
              "      <td>0</td>\n",
              "      <td>0</td>\n",
              "      <td>0</td>\n",
              "      <td>LiCo3(SiO4)2</td>\n",
              "    </tr>\n",
              "    <tr>\n",
              "      <th>336</th>\n",
              "      <td>0</td>\n",
              "      <td>0</td>\n",
              "      <td>0</td>\n",
              "      <td>0</td>\n",
              "      <td>0</td>\n",
              "      <td>0</td>\n",
              "      <td>0</td>\n",
              "      <td>0</td>\n",
              "      <td>0</td>\n",
              "      <td>0</td>\n",
              "      <td>Li5Co4(Si3O10)2</td>\n",
              "    </tr>\n",
              "    <tr>\n",
              "      <th>337</th>\n",
              "      <td>0</td>\n",
              "      <td>1</td>\n",
              "      <td>0</td>\n",
              "      <td>0</td>\n",
              "      <td>0</td>\n",
              "      <td>0</td>\n",
              "      <td>0</td>\n",
              "      <td>0</td>\n",
              "      <td>0</td>\n",
              "      <td>0</td>\n",
              "      <td>LiCoSiO4</td>\n",
              "    </tr>\n",
              "    <tr>\n",
              "      <th>338</th>\n",
              "      <td>0</td>\n",
              "      <td>0</td>\n",
              "      <td>0</td>\n",
              "      <td>0</td>\n",
              "      <td>0</td>\n",
              "      <td>0</td>\n",
              "      <td>1</td>\n",
              "      <td>0</td>\n",
              "      <td>0</td>\n",
              "      <td>0</td>\n",
              "      <td>Li3Co2(SiO4)2</td>\n",
              "    </tr>\n",
              "  </tbody>\n",
              "</table>\n",
              "<p>339 rows × 11 columns</p>\n",
              "</div>\n",
              "      <button class=\"colab-df-convert\" onclick=\"convertToInteractive('df-1cd3d0f8-ddad-4383-b755-8744b808aea7')\"\n",
              "              title=\"Convert this dataframe to an interactive table.\"\n",
              "              style=\"display:none;\">\n",
              "        \n",
              "  <svg xmlns=\"http://www.w3.org/2000/svg\" height=\"24px\"viewBox=\"0 0 24 24\"\n",
              "       width=\"24px\">\n",
              "    <path d=\"M0 0h24v24H0V0z\" fill=\"none\"/>\n",
              "    <path d=\"M18.56 5.44l.94 2.06.94-2.06 2.06-.94-2.06-.94-.94-2.06-.94 2.06-2.06.94zm-11 1L8.5 8.5l.94-2.06 2.06-.94-2.06-.94L8.5 2.5l-.94 2.06-2.06.94zm10 10l.94 2.06.94-2.06 2.06-.94-2.06-.94-.94-2.06-.94 2.06-2.06.94z\"/><path d=\"M17.41 7.96l-1.37-1.37c-.4-.4-.92-.59-1.43-.59-.52 0-1.04.2-1.43.59L10.3 9.45l-7.72 7.72c-.78.78-.78 2.05 0 2.83L4 21.41c.39.39.9.59 1.41.59.51 0 1.02-.2 1.41-.59l7.78-7.78 2.81-2.81c.8-.78.8-2.07 0-2.86zM5.41 20L4 18.59l7.72-7.72 1.47 1.35L5.41 20z\"/>\n",
              "  </svg>\n",
              "      </button>\n",
              "      \n",
              "  <style>\n",
              "    .colab-df-container {\n",
              "      display:flex;\n",
              "      flex-wrap:wrap;\n",
              "      gap: 12px;\n",
              "    }\n",
              "\n",
              "    .colab-df-convert {\n",
              "      background-color: #E8F0FE;\n",
              "      border: none;\n",
              "      border-radius: 50%;\n",
              "      cursor: pointer;\n",
              "      display: none;\n",
              "      fill: #1967D2;\n",
              "      height: 32px;\n",
              "      padding: 0 0 0 0;\n",
              "      width: 32px;\n",
              "    }\n",
              "\n",
              "    .colab-df-convert:hover {\n",
              "      background-color: #E2EBFA;\n",
              "      box-shadow: 0px 1px 2px rgba(60, 64, 67, 0.3), 0px 1px 3px 1px rgba(60, 64, 67, 0.15);\n",
              "      fill: #174EA6;\n",
              "    }\n",
              "\n",
              "    [theme=dark] .colab-df-convert {\n",
              "      background-color: #3B4455;\n",
              "      fill: #D2E3FC;\n",
              "    }\n",
              "\n",
              "    [theme=dark] .colab-df-convert:hover {\n",
              "      background-color: #434B5C;\n",
              "      box-shadow: 0px 1px 3px 1px rgba(0, 0, 0, 0.15);\n",
              "      filter: drop-shadow(0px 1px 2px rgba(0, 0, 0, 0.3));\n",
              "      fill: #FFFFFF;\n",
              "    }\n",
              "  </style>\n",
              "\n",
              "      <script>\n",
              "        const buttonEl =\n",
              "          document.querySelector('#df-1cd3d0f8-ddad-4383-b755-8744b808aea7 button.colab-df-convert');\n",
              "        buttonEl.style.display =\n",
              "          google.colab.kernel.accessAllowed ? 'block' : 'none';\n",
              "\n",
              "        async function convertToInteractive(key) {\n",
              "          const element = document.querySelector('#df-1cd3d0f8-ddad-4383-b755-8744b808aea7');\n",
              "          const dataTable =\n",
              "            await google.colab.kernel.invokeFunction('convertToInteractive',\n",
              "                                                     [key], {});\n",
              "          if (!dataTable) return;\n",
              "\n",
              "          const docLinkHtml = 'Like what you see? Visit the ' +\n",
              "            '<a target=\"_blank\" href=https://colab.research.google.com/notebooks/data_table.ipynb>data table notebook</a>'\n",
              "            + ' to learn more about interactive tables.';\n",
              "          element.innerHTML = '';\n",
              "          dataTable['output_type'] = 'display_data';\n",
              "          await google.colab.output.renderOutput(dataTable, element);\n",
              "          const docLink = document.createElement('div');\n",
              "          docLink.innerHTML = docLinkHtml;\n",
              "          element.appendChild(docLink);\n",
              "        }\n",
              "      </script>\n",
              "    </div>\n",
              "  </div>\n",
              "  "
            ]
          },
          "metadata": {},
          "execution_count": 34
        }
      ]
    },
    {
      "cell_type": "code",
      "source": [
        "data"
      ],
      "metadata": {
        "colab": {
          "base_uri": "https://localhost:8080/"
        },
        "id": "bWpoQYZsSLRH",
        "outputId": "fa945bb8-b6ce-402b-c8ec-37a04e79d384"
      },
      "execution_count": null,
      "outputs": [
        {
          "output_type": "execute_result",
          "data": {
            "text/plain": [
              "             Formula  Spacegroup  Formation Energy (eV)  E Above Hull (eV)  \\\n",
              "0          Li2MnSiO4          31                 -2.699              0.006   \n",
              "1          Li2MnSiO4          21                 -2.696              0.008   \n",
              "2         Li4MnSi2O7           6                 -2.775              0.012   \n",
              "3       Li4Mn2Si3O10           1                 -2.783              0.013   \n",
              "4       Li2Mn3Si3O10           1                 -2.747              0.016   \n",
              "..               ...         ...                    ...                ...   \n",
              "334     Li6Co(SiO4)2          16                 -2.545              0.071   \n",
              "335     LiCo3(SiO4)2          16                 -2.250              0.076   \n",
              "336  Li5Co4(Si3O10)2          16                 -2.529              0.082   \n",
              "337         LiCoSiO4          16                 -2.348              0.087   \n",
              "338    Li3Co2(SiO4)2          16                 -2.406              0.090   \n",
              "\n",
              "     Band Gap (eV)  Nsites  Density (gm/cc)   Volume  Has Bandstructure  \\\n",
              "0            3.462      16            2.993  178.513                  1   \n",
              "1            2.879      32            2.926  365.272                  1   \n",
              "2            3.653      28            2.761  301.775                  1   \n",
              "3            3.015      38            2.908  436.183                  1   \n",
              "4            2.578      36            3.334  421.286                  1   \n",
              "..             ...     ...              ...      ...                ...   \n",
              "334          2.685      17            2.753  171.772                  1   \n",
              "335          0.005      42            3.318  552.402                  1   \n",
              "336          0.176      35            2.940  428.648                  1   \n",
              "337          1.333      14            2.451  214.044                  1   \n",
              "338          0.323      15            3.043  176.207                  0   \n",
              "\n",
              "     Crystal System  ...  LiFeSiO4  LiCoSiO4  Li2FeSiO4  Li2CoSiO4  Li2MnSiO4  \\\n",
              "0                 0  ...         0         0          0          0          1   \n",
              "1                 0  ...         0         0          0          0          1   \n",
              "2                 0  ...         0         0          0          0          0   \n",
              "3                 0  ...         0         0          0          0          0   \n",
              "4                 0  ...         0         0          0          0          0   \n",
              "..              ...  ...       ...       ...        ...        ...        ...   \n",
              "334               2  ...         0         0          0          0          0   \n",
              "335               2  ...         0         0          0          0          0   \n",
              "336               2  ...         0         0          0          0          0   \n",
              "337               2  ...         0         1          0          0          0   \n",
              "338               2  ...         0         0          0          0          0   \n",
              "\n",
              "     LiMnSiO4  Li3Co2(SiO4)2  Li3Fe2(SiO4)2  LiFe(SiO3)2  Li2Mn(SiO3)2  \n",
              "0           0              0              0            0             0  \n",
              "1           0              0              0            0             0  \n",
              "2           0              0              0            0             0  \n",
              "3           0              0              0            0             0  \n",
              "4           0              0              0            0             0  \n",
              "..        ...            ...            ...          ...           ...  \n",
              "334         0              0              0            0             0  \n",
              "335         0              0              0            0             0  \n",
              "336         0              0              0            0             0  \n",
              "337         0              0              0            0             0  \n",
              "338         0              1              0            0             0  \n",
              "\n",
              "[339 rows x 21 columns]"
            ],
            "text/html": [
              "\n",
              "  <div id=\"df-c2a88064-9ba2-4ea8-b24c-8edc0e9aec49\">\n",
              "    <div class=\"colab-df-container\">\n",
              "      <div>\n",
              "<style scoped>\n",
              "    .dataframe tbody tr th:only-of-type {\n",
              "        vertical-align: middle;\n",
              "    }\n",
              "\n",
              "    .dataframe tbody tr th {\n",
              "        vertical-align: top;\n",
              "    }\n",
              "\n",
              "    .dataframe thead th {\n",
              "        text-align: right;\n",
              "    }\n",
              "</style>\n",
              "<table border=\"1\" class=\"dataframe\">\n",
              "  <thead>\n",
              "    <tr style=\"text-align: right;\">\n",
              "      <th></th>\n",
              "      <th>Formula</th>\n",
              "      <th>Spacegroup</th>\n",
              "      <th>Formation Energy (eV)</th>\n",
              "      <th>E Above Hull (eV)</th>\n",
              "      <th>Band Gap (eV)</th>\n",
              "      <th>Nsites</th>\n",
              "      <th>Density (gm/cc)</th>\n",
              "      <th>Volume</th>\n",
              "      <th>Has Bandstructure</th>\n",
              "      <th>Crystal System</th>\n",
              "      <th>...</th>\n",
              "      <th>LiFeSiO4</th>\n",
              "      <th>LiCoSiO4</th>\n",
              "      <th>Li2FeSiO4</th>\n",
              "      <th>Li2CoSiO4</th>\n",
              "      <th>Li2MnSiO4</th>\n",
              "      <th>LiMnSiO4</th>\n",
              "      <th>Li3Co2(SiO4)2</th>\n",
              "      <th>Li3Fe2(SiO4)2</th>\n",
              "      <th>LiFe(SiO3)2</th>\n",
              "      <th>Li2Mn(SiO3)2</th>\n",
              "    </tr>\n",
              "  </thead>\n",
              "  <tbody>\n",
              "    <tr>\n",
              "      <th>0</th>\n",
              "      <td>Li2MnSiO4</td>\n",
              "      <td>31</td>\n",
              "      <td>-2.699</td>\n",
              "      <td>0.006</td>\n",
              "      <td>3.462</td>\n",
              "      <td>16</td>\n",
              "      <td>2.993</td>\n",
              "      <td>178.513</td>\n",
              "      <td>1</td>\n",
              "      <td>0</td>\n",
              "      <td>...</td>\n",
              "      <td>0</td>\n",
              "      <td>0</td>\n",
              "      <td>0</td>\n",
              "      <td>0</td>\n",
              "      <td>1</td>\n",
              "      <td>0</td>\n",
              "      <td>0</td>\n",
              "      <td>0</td>\n",
              "      <td>0</td>\n",
              "      <td>0</td>\n",
              "    </tr>\n",
              "    <tr>\n",
              "      <th>1</th>\n",
              "      <td>Li2MnSiO4</td>\n",
              "      <td>21</td>\n",
              "      <td>-2.696</td>\n",
              "      <td>0.008</td>\n",
              "      <td>2.879</td>\n",
              "      <td>32</td>\n",
              "      <td>2.926</td>\n",
              "      <td>365.272</td>\n",
              "      <td>1</td>\n",
              "      <td>0</td>\n",
              "      <td>...</td>\n",
              "      <td>0</td>\n",
              "      <td>0</td>\n",
              "      <td>0</td>\n",
              "      <td>0</td>\n",
              "      <td>1</td>\n",
              "      <td>0</td>\n",
              "      <td>0</td>\n",
              "      <td>0</td>\n",
              "      <td>0</td>\n",
              "      <td>0</td>\n",
              "    </tr>\n",
              "    <tr>\n",
              "      <th>2</th>\n",
              "      <td>Li4MnSi2O7</td>\n",
              "      <td>6</td>\n",
              "      <td>-2.775</td>\n",
              "      <td>0.012</td>\n",
              "      <td>3.653</td>\n",
              "      <td>28</td>\n",
              "      <td>2.761</td>\n",
              "      <td>301.775</td>\n",
              "      <td>1</td>\n",
              "      <td>0</td>\n",
              "      <td>...</td>\n",
              "      <td>0</td>\n",
              "      <td>0</td>\n",
              "      <td>0</td>\n",
              "      <td>0</td>\n",
              "      <td>0</td>\n",
              "      <td>0</td>\n",
              "      <td>0</td>\n",
              "      <td>0</td>\n",
              "      <td>0</td>\n",
              "      <td>0</td>\n",
              "    </tr>\n",
              "    <tr>\n",
              "      <th>3</th>\n",
              "      <td>Li4Mn2Si3O10</td>\n",
              "      <td>1</td>\n",
              "      <td>-2.783</td>\n",
              "      <td>0.013</td>\n",
              "      <td>3.015</td>\n",
              "      <td>38</td>\n",
              "      <td>2.908</td>\n",
              "      <td>436.183</td>\n",
              "      <td>1</td>\n",
              "      <td>0</td>\n",
              "      <td>...</td>\n",
              "      <td>0</td>\n",
              "      <td>0</td>\n",
              "      <td>0</td>\n",
              "      <td>0</td>\n",
              "      <td>0</td>\n",
              "      <td>0</td>\n",
              "      <td>0</td>\n",
              "      <td>0</td>\n",
              "      <td>0</td>\n",
              "      <td>0</td>\n",
              "    </tr>\n",
              "    <tr>\n",
              "      <th>4</th>\n",
              "      <td>Li2Mn3Si3O10</td>\n",
              "      <td>1</td>\n",
              "      <td>-2.747</td>\n",
              "      <td>0.016</td>\n",
              "      <td>2.578</td>\n",
              "      <td>36</td>\n",
              "      <td>3.334</td>\n",
              "      <td>421.286</td>\n",
              "      <td>1</td>\n",
              "      <td>0</td>\n",
              "      <td>...</td>\n",
              "      <td>0</td>\n",
              "      <td>0</td>\n",
              "      <td>0</td>\n",
              "      <td>0</td>\n",
              "      <td>0</td>\n",
              "      <td>0</td>\n",
              "      <td>0</td>\n",
              "      <td>0</td>\n",
              "      <td>0</td>\n",
              "      <td>0</td>\n",
              "    </tr>\n",
              "    <tr>\n",
              "      <th>...</th>\n",
              "      <td>...</td>\n",
              "      <td>...</td>\n",
              "      <td>...</td>\n",
              "      <td>...</td>\n",
              "      <td>...</td>\n",
              "      <td>...</td>\n",
              "      <td>...</td>\n",
              "      <td>...</td>\n",
              "      <td>...</td>\n",
              "      <td>...</td>\n",
              "      <td>...</td>\n",
              "      <td>...</td>\n",
              "      <td>...</td>\n",
              "      <td>...</td>\n",
              "      <td>...</td>\n",
              "      <td>...</td>\n",
              "      <td>...</td>\n",
              "      <td>...</td>\n",
              "      <td>...</td>\n",
              "      <td>...</td>\n",
              "      <td>...</td>\n",
              "    </tr>\n",
              "    <tr>\n",
              "      <th>334</th>\n",
              "      <td>Li6Co(SiO4)2</td>\n",
              "      <td>16</td>\n",
              "      <td>-2.545</td>\n",
              "      <td>0.071</td>\n",
              "      <td>2.685</td>\n",
              "      <td>17</td>\n",
              "      <td>2.753</td>\n",
              "      <td>171.772</td>\n",
              "      <td>1</td>\n",
              "      <td>2</td>\n",
              "      <td>...</td>\n",
              "      <td>0</td>\n",
              "      <td>0</td>\n",
              "      <td>0</td>\n",
              "      <td>0</td>\n",
              "      <td>0</td>\n",
              "      <td>0</td>\n",
              "      <td>0</td>\n",
              "      <td>0</td>\n",
              "      <td>0</td>\n",
              "      <td>0</td>\n",
              "    </tr>\n",
              "    <tr>\n",
              "      <th>335</th>\n",
              "      <td>LiCo3(SiO4)2</td>\n",
              "      <td>16</td>\n",
              "      <td>-2.250</td>\n",
              "      <td>0.076</td>\n",
              "      <td>0.005</td>\n",
              "      <td>42</td>\n",
              "      <td>3.318</td>\n",
              "      <td>552.402</td>\n",
              "      <td>1</td>\n",
              "      <td>2</td>\n",
              "      <td>...</td>\n",
              "      <td>0</td>\n",
              "      <td>0</td>\n",
              "      <td>0</td>\n",
              "      <td>0</td>\n",
              "      <td>0</td>\n",
              "      <td>0</td>\n",
              "      <td>0</td>\n",
              "      <td>0</td>\n",
              "      <td>0</td>\n",
              "      <td>0</td>\n",
              "    </tr>\n",
              "    <tr>\n",
              "      <th>336</th>\n",
              "      <td>Li5Co4(Si3O10)2</td>\n",
              "      <td>16</td>\n",
              "      <td>-2.529</td>\n",
              "      <td>0.082</td>\n",
              "      <td>0.176</td>\n",
              "      <td>35</td>\n",
              "      <td>2.940</td>\n",
              "      <td>428.648</td>\n",
              "      <td>1</td>\n",
              "      <td>2</td>\n",
              "      <td>...</td>\n",
              "      <td>0</td>\n",
              "      <td>0</td>\n",
              "      <td>0</td>\n",
              "      <td>0</td>\n",
              "      <td>0</td>\n",
              "      <td>0</td>\n",
              "      <td>0</td>\n",
              "      <td>0</td>\n",
              "      <td>0</td>\n",
              "      <td>0</td>\n",
              "    </tr>\n",
              "    <tr>\n",
              "      <th>337</th>\n",
              "      <td>LiCoSiO4</td>\n",
              "      <td>16</td>\n",
              "      <td>-2.348</td>\n",
              "      <td>0.087</td>\n",
              "      <td>1.333</td>\n",
              "      <td>14</td>\n",
              "      <td>2.451</td>\n",
              "      <td>214.044</td>\n",
              "      <td>1</td>\n",
              "      <td>2</td>\n",
              "      <td>...</td>\n",
              "      <td>0</td>\n",
              "      <td>1</td>\n",
              "      <td>0</td>\n",
              "      <td>0</td>\n",
              "      <td>0</td>\n",
              "      <td>0</td>\n",
              "      <td>0</td>\n",
              "      <td>0</td>\n",
              "      <td>0</td>\n",
              "      <td>0</td>\n",
              "    </tr>\n",
              "    <tr>\n",
              "      <th>338</th>\n",
              "      <td>Li3Co2(SiO4)2</td>\n",
              "      <td>16</td>\n",
              "      <td>-2.406</td>\n",
              "      <td>0.090</td>\n",
              "      <td>0.323</td>\n",
              "      <td>15</td>\n",
              "      <td>3.043</td>\n",
              "      <td>176.207</td>\n",
              "      <td>0</td>\n",
              "      <td>2</td>\n",
              "      <td>...</td>\n",
              "      <td>0</td>\n",
              "      <td>0</td>\n",
              "      <td>0</td>\n",
              "      <td>0</td>\n",
              "      <td>0</td>\n",
              "      <td>0</td>\n",
              "      <td>1</td>\n",
              "      <td>0</td>\n",
              "      <td>0</td>\n",
              "      <td>0</td>\n",
              "    </tr>\n",
              "  </tbody>\n",
              "</table>\n",
              "<p>339 rows × 21 columns</p>\n",
              "</div>\n",
              "      <button class=\"colab-df-convert\" onclick=\"convertToInteractive('df-c2a88064-9ba2-4ea8-b24c-8edc0e9aec49')\"\n",
              "              title=\"Convert this dataframe to an interactive table.\"\n",
              "              style=\"display:none;\">\n",
              "        \n",
              "  <svg xmlns=\"http://www.w3.org/2000/svg\" height=\"24px\"viewBox=\"0 0 24 24\"\n",
              "       width=\"24px\">\n",
              "    <path d=\"M0 0h24v24H0V0z\" fill=\"none\"/>\n",
              "    <path d=\"M18.56 5.44l.94 2.06.94-2.06 2.06-.94-2.06-.94-.94-2.06-.94 2.06-2.06.94zm-11 1L8.5 8.5l.94-2.06 2.06-.94-2.06-.94L8.5 2.5l-.94 2.06-2.06.94zm10 10l.94 2.06.94-2.06 2.06-.94-2.06-.94-.94-2.06-.94 2.06-2.06.94z\"/><path d=\"M17.41 7.96l-1.37-1.37c-.4-.4-.92-.59-1.43-.59-.52 0-1.04.2-1.43.59L10.3 9.45l-7.72 7.72c-.78.78-.78 2.05 0 2.83L4 21.41c.39.39.9.59 1.41.59.51 0 1.02-.2 1.41-.59l7.78-7.78 2.81-2.81c.8-.78.8-2.07 0-2.86zM5.41 20L4 18.59l7.72-7.72 1.47 1.35L5.41 20z\"/>\n",
              "  </svg>\n",
              "      </button>\n",
              "      \n",
              "  <style>\n",
              "    .colab-df-container {\n",
              "      display:flex;\n",
              "      flex-wrap:wrap;\n",
              "      gap: 12px;\n",
              "    }\n",
              "\n",
              "    .colab-df-convert {\n",
              "      background-color: #E8F0FE;\n",
              "      border: none;\n",
              "      border-radius: 50%;\n",
              "      cursor: pointer;\n",
              "      display: none;\n",
              "      fill: #1967D2;\n",
              "      height: 32px;\n",
              "      padding: 0 0 0 0;\n",
              "      width: 32px;\n",
              "    }\n",
              "\n",
              "    .colab-df-convert:hover {\n",
              "      background-color: #E2EBFA;\n",
              "      box-shadow: 0px 1px 2px rgba(60, 64, 67, 0.3), 0px 1px 3px 1px rgba(60, 64, 67, 0.15);\n",
              "      fill: #174EA6;\n",
              "    }\n",
              "\n",
              "    [theme=dark] .colab-df-convert {\n",
              "      background-color: #3B4455;\n",
              "      fill: #D2E3FC;\n",
              "    }\n",
              "\n",
              "    [theme=dark] .colab-df-convert:hover {\n",
              "      background-color: #434B5C;\n",
              "      box-shadow: 0px 1px 3px 1px rgba(0, 0, 0, 0.15);\n",
              "      filter: drop-shadow(0px 1px 2px rgba(0, 0, 0, 0.3));\n",
              "      fill: #FFFFFF;\n",
              "    }\n",
              "  </style>\n",
              "\n",
              "      <script>\n",
              "        const buttonEl =\n",
              "          document.querySelector('#df-c2a88064-9ba2-4ea8-b24c-8edc0e9aec49 button.colab-df-convert');\n",
              "        buttonEl.style.display =\n",
              "          google.colab.kernel.accessAllowed ? 'block' : 'none';\n",
              "\n",
              "        async function convertToInteractive(key) {\n",
              "          const element = document.querySelector('#df-c2a88064-9ba2-4ea8-b24c-8edc0e9aec49');\n",
              "          const dataTable =\n",
              "            await google.colab.kernel.invokeFunction('convertToInteractive',\n",
              "                                                     [key], {});\n",
              "          if (!dataTable) return;\n",
              "\n",
              "          const docLinkHtml = 'Like what you see? Visit the ' +\n",
              "            '<a target=\"_blank\" href=https://colab.research.google.com/notebooks/data_table.ipynb>data table notebook</a>'\n",
              "            + ' to learn more about interactive tables.';\n",
              "          element.innerHTML = '';\n",
              "          dataTable['output_type'] = 'display_data';\n",
              "          await google.colab.output.renderOutput(dataTable, element);\n",
              "          const docLink = document.createElement('div');\n",
              "          docLink.innerHTML = docLinkHtml;\n",
              "          element.appendChild(docLink);\n",
              "        }\n",
              "      </script>\n",
              "    </div>\n",
              "  </div>\n",
              "  "
            ]
          },
          "metadata": {},
          "execution_count": 35
        }
      ]
    },
    {
      "cell_type": "code",
      "source": [
        "data = data.drop('Formula', axis=1)"
      ],
      "metadata": {
        "id": "3fqdsifxSUmL"
      },
      "execution_count": null,
      "outputs": []
    },
    {
      "cell_type": "code",
      "source": [
        "data.head()"
      ],
      "metadata": {
        "colab": {
          "base_uri": "https://localhost:8080/"
        },
        "id": "5kcpifpgSwdV",
        "outputId": "f88317b9-24fb-4329-c6e5-137d2463a05f"
      },
      "execution_count": null,
      "outputs": [
        {
          "output_type": "execute_result",
          "data": {
            "text/plain": [
              "   Spacegroup  Formation Energy (eV)  E Above Hull (eV)  Band Gap (eV)  \\\n",
              "0          31                 -2.699              0.006          3.462   \n",
              "1          21                 -2.696              0.008          2.879   \n",
              "2           6                 -2.775              0.012          3.653   \n",
              "3           1                 -2.783              0.013          3.015   \n",
              "4           1                 -2.747              0.016          2.578   \n",
              "\n",
              "   Nsites  Density (gm/cc)   Volume  Has Bandstructure  Crystal System  \\\n",
              "0      16            2.993  178.513                  1               0   \n",
              "1      32            2.926  365.272                  1               0   \n",
              "2      28            2.761  301.775                  1               0   \n",
              "3      38            2.908  436.183                  1               0   \n",
              "4      36            3.334  421.286                  1               0   \n",
              "\n",
              "   Spacegroup (ordinal)  LiFeSiO4  LiCoSiO4  Li2FeSiO4  Li2CoSiO4  Li2MnSiO4  \\\n",
              "0                     0         0         0          0          0          1   \n",
              "1                     1         0         0          0          0          1   \n",
              "2                     2         0         0          0          0          0   \n",
              "3                     3         0         0          0          0          0   \n",
              "4                     3         0         0          0          0          0   \n",
              "\n",
              "   LiMnSiO4  Li3Co2(SiO4)2  Li3Fe2(SiO4)2  LiFe(SiO3)2  Li2Mn(SiO3)2  \n",
              "0         0              0              0            0             0  \n",
              "1         0              0              0            0             0  \n",
              "2         0              0              0            0             0  \n",
              "3         0              0              0            0             0  \n",
              "4         0              0              0            0             0  "
            ],
            "text/html": [
              "\n",
              "  <div id=\"df-f873ce54-9939-45f3-973f-2571c0388462\">\n",
              "    <div class=\"colab-df-container\">\n",
              "      <div>\n",
              "<style scoped>\n",
              "    .dataframe tbody tr th:only-of-type {\n",
              "        vertical-align: middle;\n",
              "    }\n",
              "\n",
              "    .dataframe tbody tr th {\n",
              "        vertical-align: top;\n",
              "    }\n",
              "\n",
              "    .dataframe thead th {\n",
              "        text-align: right;\n",
              "    }\n",
              "</style>\n",
              "<table border=\"1\" class=\"dataframe\">\n",
              "  <thead>\n",
              "    <tr style=\"text-align: right;\">\n",
              "      <th></th>\n",
              "      <th>Spacegroup</th>\n",
              "      <th>Formation Energy (eV)</th>\n",
              "      <th>E Above Hull (eV)</th>\n",
              "      <th>Band Gap (eV)</th>\n",
              "      <th>Nsites</th>\n",
              "      <th>Density (gm/cc)</th>\n",
              "      <th>Volume</th>\n",
              "      <th>Has Bandstructure</th>\n",
              "      <th>Crystal System</th>\n",
              "      <th>Spacegroup (ordinal)</th>\n",
              "      <th>LiFeSiO4</th>\n",
              "      <th>LiCoSiO4</th>\n",
              "      <th>Li2FeSiO4</th>\n",
              "      <th>Li2CoSiO4</th>\n",
              "      <th>Li2MnSiO4</th>\n",
              "      <th>LiMnSiO4</th>\n",
              "      <th>Li3Co2(SiO4)2</th>\n",
              "      <th>Li3Fe2(SiO4)2</th>\n",
              "      <th>LiFe(SiO3)2</th>\n",
              "      <th>Li2Mn(SiO3)2</th>\n",
              "    </tr>\n",
              "  </thead>\n",
              "  <tbody>\n",
              "    <tr>\n",
              "      <th>0</th>\n",
              "      <td>31</td>\n",
              "      <td>-2.699</td>\n",
              "      <td>0.006</td>\n",
              "      <td>3.462</td>\n",
              "      <td>16</td>\n",
              "      <td>2.993</td>\n",
              "      <td>178.513</td>\n",
              "      <td>1</td>\n",
              "      <td>0</td>\n",
              "      <td>0</td>\n",
              "      <td>0</td>\n",
              "      <td>0</td>\n",
              "      <td>0</td>\n",
              "      <td>0</td>\n",
              "      <td>1</td>\n",
              "      <td>0</td>\n",
              "      <td>0</td>\n",
              "      <td>0</td>\n",
              "      <td>0</td>\n",
              "      <td>0</td>\n",
              "    </tr>\n",
              "    <tr>\n",
              "      <th>1</th>\n",
              "      <td>21</td>\n",
              "      <td>-2.696</td>\n",
              "      <td>0.008</td>\n",
              "      <td>2.879</td>\n",
              "      <td>32</td>\n",
              "      <td>2.926</td>\n",
              "      <td>365.272</td>\n",
              "      <td>1</td>\n",
              "      <td>0</td>\n",
              "      <td>1</td>\n",
              "      <td>0</td>\n",
              "      <td>0</td>\n",
              "      <td>0</td>\n",
              "      <td>0</td>\n",
              "      <td>1</td>\n",
              "      <td>0</td>\n",
              "      <td>0</td>\n",
              "      <td>0</td>\n",
              "      <td>0</td>\n",
              "      <td>0</td>\n",
              "    </tr>\n",
              "    <tr>\n",
              "      <th>2</th>\n",
              "      <td>6</td>\n",
              "      <td>-2.775</td>\n",
              "      <td>0.012</td>\n",
              "      <td>3.653</td>\n",
              "      <td>28</td>\n",
              "      <td>2.761</td>\n",
              "      <td>301.775</td>\n",
              "      <td>1</td>\n",
              "      <td>0</td>\n",
              "      <td>2</td>\n",
              "      <td>0</td>\n",
              "      <td>0</td>\n",
              "      <td>0</td>\n",
              "      <td>0</td>\n",
              "      <td>0</td>\n",
              "      <td>0</td>\n",
              "      <td>0</td>\n",
              "      <td>0</td>\n",
              "      <td>0</td>\n",
              "      <td>0</td>\n",
              "    </tr>\n",
              "    <tr>\n",
              "      <th>3</th>\n",
              "      <td>1</td>\n",
              "      <td>-2.783</td>\n",
              "      <td>0.013</td>\n",
              "      <td>3.015</td>\n",
              "      <td>38</td>\n",
              "      <td>2.908</td>\n",
              "      <td>436.183</td>\n",
              "      <td>1</td>\n",
              "      <td>0</td>\n",
              "      <td>3</td>\n",
              "      <td>0</td>\n",
              "      <td>0</td>\n",
              "      <td>0</td>\n",
              "      <td>0</td>\n",
              "      <td>0</td>\n",
              "      <td>0</td>\n",
              "      <td>0</td>\n",
              "      <td>0</td>\n",
              "      <td>0</td>\n",
              "      <td>0</td>\n",
              "    </tr>\n",
              "    <tr>\n",
              "      <th>4</th>\n",
              "      <td>1</td>\n",
              "      <td>-2.747</td>\n",
              "      <td>0.016</td>\n",
              "      <td>2.578</td>\n",
              "      <td>36</td>\n",
              "      <td>3.334</td>\n",
              "      <td>421.286</td>\n",
              "      <td>1</td>\n",
              "      <td>0</td>\n",
              "      <td>3</td>\n",
              "      <td>0</td>\n",
              "      <td>0</td>\n",
              "      <td>0</td>\n",
              "      <td>0</td>\n",
              "      <td>0</td>\n",
              "      <td>0</td>\n",
              "      <td>0</td>\n",
              "      <td>0</td>\n",
              "      <td>0</td>\n",
              "      <td>0</td>\n",
              "    </tr>\n",
              "  </tbody>\n",
              "</table>\n",
              "</div>\n",
              "      <button class=\"colab-df-convert\" onclick=\"convertToInteractive('df-f873ce54-9939-45f3-973f-2571c0388462')\"\n",
              "              title=\"Convert this dataframe to an interactive table.\"\n",
              "              style=\"display:none;\">\n",
              "        \n",
              "  <svg xmlns=\"http://www.w3.org/2000/svg\" height=\"24px\"viewBox=\"0 0 24 24\"\n",
              "       width=\"24px\">\n",
              "    <path d=\"M0 0h24v24H0V0z\" fill=\"none\"/>\n",
              "    <path d=\"M18.56 5.44l.94 2.06.94-2.06 2.06-.94-2.06-.94-.94-2.06-.94 2.06-2.06.94zm-11 1L8.5 8.5l.94-2.06 2.06-.94-2.06-.94L8.5 2.5l-.94 2.06-2.06.94zm10 10l.94 2.06.94-2.06 2.06-.94-2.06-.94-.94-2.06-.94 2.06-2.06.94z\"/><path d=\"M17.41 7.96l-1.37-1.37c-.4-.4-.92-.59-1.43-.59-.52 0-1.04.2-1.43.59L10.3 9.45l-7.72 7.72c-.78.78-.78 2.05 0 2.83L4 21.41c.39.39.9.59 1.41.59.51 0 1.02-.2 1.41-.59l7.78-7.78 2.81-2.81c.8-.78.8-2.07 0-2.86zM5.41 20L4 18.59l7.72-7.72 1.47 1.35L5.41 20z\"/>\n",
              "  </svg>\n",
              "      </button>\n",
              "      \n",
              "  <style>\n",
              "    .colab-df-container {\n",
              "      display:flex;\n",
              "      flex-wrap:wrap;\n",
              "      gap: 12px;\n",
              "    }\n",
              "\n",
              "    .colab-df-convert {\n",
              "      background-color: #E8F0FE;\n",
              "      border: none;\n",
              "      border-radius: 50%;\n",
              "      cursor: pointer;\n",
              "      display: none;\n",
              "      fill: #1967D2;\n",
              "      height: 32px;\n",
              "      padding: 0 0 0 0;\n",
              "      width: 32px;\n",
              "    }\n",
              "\n",
              "    .colab-df-convert:hover {\n",
              "      background-color: #E2EBFA;\n",
              "      box-shadow: 0px 1px 2px rgba(60, 64, 67, 0.3), 0px 1px 3px 1px rgba(60, 64, 67, 0.15);\n",
              "      fill: #174EA6;\n",
              "    }\n",
              "\n",
              "    [theme=dark] .colab-df-convert {\n",
              "      background-color: #3B4455;\n",
              "      fill: #D2E3FC;\n",
              "    }\n",
              "\n",
              "    [theme=dark] .colab-df-convert:hover {\n",
              "      background-color: #434B5C;\n",
              "      box-shadow: 0px 1px 3px 1px rgba(0, 0, 0, 0.15);\n",
              "      filter: drop-shadow(0px 1px 2px rgba(0, 0, 0, 0.3));\n",
              "      fill: #FFFFFF;\n",
              "    }\n",
              "  </style>\n",
              "\n",
              "      <script>\n",
              "        const buttonEl =\n",
              "          document.querySelector('#df-f873ce54-9939-45f3-973f-2571c0388462 button.colab-df-convert');\n",
              "        buttonEl.style.display =\n",
              "          google.colab.kernel.accessAllowed ? 'block' : 'none';\n",
              "\n",
              "        async function convertToInteractive(key) {\n",
              "          const element = document.querySelector('#df-f873ce54-9939-45f3-973f-2571c0388462');\n",
              "          const dataTable =\n",
              "            await google.colab.kernel.invokeFunction('convertToInteractive',\n",
              "                                                     [key], {});\n",
              "          if (!dataTable) return;\n",
              "\n",
              "          const docLinkHtml = 'Like what you see? Visit the ' +\n",
              "            '<a target=\"_blank\" href=https://colab.research.google.com/notebooks/data_table.ipynb>data table notebook</a>'\n",
              "            + ' to learn more about interactive tables.';\n",
              "          element.innerHTML = '';\n",
              "          dataTable['output_type'] = 'display_data';\n",
              "          await google.colab.output.renderOutput(dataTable, element);\n",
              "          const docLink = document.createElement('div');\n",
              "          docLink.innerHTML = docLinkHtml;\n",
              "          element.appendChild(docLink);\n",
              "        }\n",
              "      </script>\n",
              "    </div>\n",
              "  </div>\n",
              "  "
            ]
          },
          "metadata": {},
          "execution_count": 37
        }
      ]
    },
    {
      "cell_type": "markdown",
      "source": [
        "#### Got all numerical variables\n"
      ],
      "metadata": {
        "id": "JwmGYh9mLB4i"
      }
    },
    {
      "cell_type": "code",
      "source": [],
      "metadata": {
        "id": "MrrfcM18xaWb"
      },
      "execution_count": null,
      "outputs": []
    },
    {
      "cell_type": "markdown",
      "source": [
        "### Models"
      ],
      "metadata": {
        "id": "ycO2k8isM7rJ"
      }
    },
    {
      "cell_type": "code",
      "source": [
        "#Importing required packages and libraries\n",
        "import pandas as pd\n",
        "import numpy  as np\n",
        "import matplotlib.pyplot as plt\n",
        "import seaborn as sns\n",
        "import graphviz\n",
        "import io\n",
        "\n",
        "from sklearn import linear_model\n",
        "from sklearn.metrics import mean_squared_error\n",
        "from sklearn.metrics import r2_score\n",
        "from sklearn import metrics\n",
        "from sklearn.preprocessing import StandardScaler\n",
        "from sklearn.linear_model import LogisticRegression\n",
        "from sklearn.tree import DecisionTreeClassifier\n",
        "from sklearn.model_selection import train_test_split\n",
        "from sklearn.ensemble import RandomForestClassifier\n",
        "from sklearn import metrics\n",
        "from sklearn import tree\n",
        "from sklearn.neighbors import KNeighborsClassifier\n",
        "\n",
        "from sklearn import preprocessing\n",
        "from sklearn.metrics import confusion_matrix,accuracy_score,roc_curve,auc,classification_report,roc_auc_score,plot_confusion_matrix\n",
        "from sklearn.preprocessing import MinMaxScaler\n",
        "from sklearn.linear_model import Ridge, Lasso\n",
        "\n",
        "from sklearn.model_selection import KFold, cross_val_score\n",
        "from sklearn.model_selection import GridSearchCV\n",
        "from urllib.request import urlopen"
      ],
      "metadata": {
        "id": "sihsms3dNrVn"
      },
      "execution_count": null,
      "outputs": []
    },
    {
      "cell_type": "markdown",
      "source": [
        "#### Train test split"
      ],
      "metadata": {
        "id": "ezCRY7QaOKph"
      }
    },
    {
      "cell_type": "code",
      "source": [
        "data.head()"
      ],
      "metadata": {
        "colab": {
          "base_uri": "https://localhost:8080/",
          "height": 322
        },
        "id": "vtDkFZVuNwYh",
        "outputId": "d74822ad-6c50-49b9-9ed1-af78b819b633"
      },
      "execution_count": null,
      "outputs": [
        {
          "output_type": "execute_result",
          "data": {
            "text/plain": [
              "   Spacegroup  Formation Energy (eV)  E Above Hull (eV)  Band Gap (eV)  \\\n",
              "0          31                 -2.699              0.006          3.462   \n",
              "1          21                 -2.696              0.008          2.879   \n",
              "2           6                 -2.775              0.012          3.653   \n",
              "3           1                 -2.783              0.013          3.015   \n",
              "4           1                 -2.747              0.016          2.578   \n",
              "\n",
              "   Nsites  Density (gm/cc)   Volume  Has Bandstructure  Crystal System  \\\n",
              "0      16            2.993  178.513                  1               0   \n",
              "1      32            2.926  365.272                  1               0   \n",
              "2      28            2.761  301.775                  1               0   \n",
              "3      38            2.908  436.183                  1               0   \n",
              "4      36            3.334  421.286                  1               0   \n",
              "\n",
              "   Spacegroup (ordinal)  LiFeSiO4  LiCoSiO4  Li2FeSiO4  Li2CoSiO4  Li2MnSiO4  \\\n",
              "0                     0         0         0          0          0          1   \n",
              "1                     1         0         0          0          0          1   \n",
              "2                     2         0         0          0          0          0   \n",
              "3                     3         0         0          0          0          0   \n",
              "4                     3         0         0          0          0          0   \n",
              "\n",
              "   LiMnSiO4  Li3Co2(SiO4)2  Li3Fe2(SiO4)2  LiFe(SiO3)2  Li2Mn(SiO3)2  \n",
              "0         0              0              0            0             0  \n",
              "1         0              0              0            0             0  \n",
              "2         0              0              0            0             0  \n",
              "3         0              0              0            0             0  \n",
              "4         0              0              0            0             0  "
            ],
            "text/html": [
              "\n",
              "  <div id=\"df-3e6aa39a-08cc-425e-bac3-474b5b0b48c2\">\n",
              "    <div class=\"colab-df-container\">\n",
              "      <div>\n",
              "<style scoped>\n",
              "    .dataframe tbody tr th:only-of-type {\n",
              "        vertical-align: middle;\n",
              "    }\n",
              "\n",
              "    .dataframe tbody tr th {\n",
              "        vertical-align: top;\n",
              "    }\n",
              "\n",
              "    .dataframe thead th {\n",
              "        text-align: right;\n",
              "    }\n",
              "</style>\n",
              "<table border=\"1\" class=\"dataframe\">\n",
              "  <thead>\n",
              "    <tr style=\"text-align: right;\">\n",
              "      <th></th>\n",
              "      <th>Spacegroup</th>\n",
              "      <th>Formation Energy (eV)</th>\n",
              "      <th>E Above Hull (eV)</th>\n",
              "      <th>Band Gap (eV)</th>\n",
              "      <th>Nsites</th>\n",
              "      <th>Density (gm/cc)</th>\n",
              "      <th>Volume</th>\n",
              "      <th>Has Bandstructure</th>\n",
              "      <th>Crystal System</th>\n",
              "      <th>Spacegroup (ordinal)</th>\n",
              "      <th>LiFeSiO4</th>\n",
              "      <th>LiCoSiO4</th>\n",
              "      <th>Li2FeSiO4</th>\n",
              "      <th>Li2CoSiO4</th>\n",
              "      <th>Li2MnSiO4</th>\n",
              "      <th>LiMnSiO4</th>\n",
              "      <th>Li3Co2(SiO4)2</th>\n",
              "      <th>Li3Fe2(SiO4)2</th>\n",
              "      <th>LiFe(SiO3)2</th>\n",
              "      <th>Li2Mn(SiO3)2</th>\n",
              "    </tr>\n",
              "  </thead>\n",
              "  <tbody>\n",
              "    <tr>\n",
              "      <th>0</th>\n",
              "      <td>31</td>\n",
              "      <td>-2.699</td>\n",
              "      <td>0.006</td>\n",
              "      <td>3.462</td>\n",
              "      <td>16</td>\n",
              "      <td>2.993</td>\n",
              "      <td>178.513</td>\n",
              "      <td>1</td>\n",
              "      <td>0</td>\n",
              "      <td>0</td>\n",
              "      <td>0</td>\n",
              "      <td>0</td>\n",
              "      <td>0</td>\n",
              "      <td>0</td>\n",
              "      <td>1</td>\n",
              "      <td>0</td>\n",
              "      <td>0</td>\n",
              "      <td>0</td>\n",
              "      <td>0</td>\n",
              "      <td>0</td>\n",
              "    </tr>\n",
              "    <tr>\n",
              "      <th>1</th>\n",
              "      <td>21</td>\n",
              "      <td>-2.696</td>\n",
              "      <td>0.008</td>\n",
              "      <td>2.879</td>\n",
              "      <td>32</td>\n",
              "      <td>2.926</td>\n",
              "      <td>365.272</td>\n",
              "      <td>1</td>\n",
              "      <td>0</td>\n",
              "      <td>1</td>\n",
              "      <td>0</td>\n",
              "      <td>0</td>\n",
              "      <td>0</td>\n",
              "      <td>0</td>\n",
              "      <td>1</td>\n",
              "      <td>0</td>\n",
              "      <td>0</td>\n",
              "      <td>0</td>\n",
              "      <td>0</td>\n",
              "      <td>0</td>\n",
              "    </tr>\n",
              "    <tr>\n",
              "      <th>2</th>\n",
              "      <td>6</td>\n",
              "      <td>-2.775</td>\n",
              "      <td>0.012</td>\n",
              "      <td>3.653</td>\n",
              "      <td>28</td>\n",
              "      <td>2.761</td>\n",
              "      <td>301.775</td>\n",
              "      <td>1</td>\n",
              "      <td>0</td>\n",
              "      <td>2</td>\n",
              "      <td>0</td>\n",
              "      <td>0</td>\n",
              "      <td>0</td>\n",
              "      <td>0</td>\n",
              "      <td>0</td>\n",
              "      <td>0</td>\n",
              "      <td>0</td>\n",
              "      <td>0</td>\n",
              "      <td>0</td>\n",
              "      <td>0</td>\n",
              "    </tr>\n",
              "    <tr>\n",
              "      <th>3</th>\n",
              "      <td>1</td>\n",
              "      <td>-2.783</td>\n",
              "      <td>0.013</td>\n",
              "      <td>3.015</td>\n",
              "      <td>38</td>\n",
              "      <td>2.908</td>\n",
              "      <td>436.183</td>\n",
              "      <td>1</td>\n",
              "      <td>0</td>\n",
              "      <td>3</td>\n",
              "      <td>0</td>\n",
              "      <td>0</td>\n",
              "      <td>0</td>\n",
              "      <td>0</td>\n",
              "      <td>0</td>\n",
              "      <td>0</td>\n",
              "      <td>0</td>\n",
              "      <td>0</td>\n",
              "      <td>0</td>\n",
              "      <td>0</td>\n",
              "    </tr>\n",
              "    <tr>\n",
              "      <th>4</th>\n",
              "      <td>1</td>\n",
              "      <td>-2.747</td>\n",
              "      <td>0.016</td>\n",
              "      <td>2.578</td>\n",
              "      <td>36</td>\n",
              "      <td>3.334</td>\n",
              "      <td>421.286</td>\n",
              "      <td>1</td>\n",
              "      <td>0</td>\n",
              "      <td>3</td>\n",
              "      <td>0</td>\n",
              "      <td>0</td>\n",
              "      <td>0</td>\n",
              "      <td>0</td>\n",
              "      <td>0</td>\n",
              "      <td>0</td>\n",
              "      <td>0</td>\n",
              "      <td>0</td>\n",
              "      <td>0</td>\n",
              "      <td>0</td>\n",
              "    </tr>\n",
              "  </tbody>\n",
              "</table>\n",
              "</div>\n",
              "      <button class=\"colab-df-convert\" onclick=\"convertToInteractive('df-3e6aa39a-08cc-425e-bac3-474b5b0b48c2')\"\n",
              "              title=\"Convert this dataframe to an interactive table.\"\n",
              "              style=\"display:none;\">\n",
              "        \n",
              "  <svg xmlns=\"http://www.w3.org/2000/svg\" height=\"24px\"viewBox=\"0 0 24 24\"\n",
              "       width=\"24px\">\n",
              "    <path d=\"M0 0h24v24H0V0z\" fill=\"none\"/>\n",
              "    <path d=\"M18.56 5.44l.94 2.06.94-2.06 2.06-.94-2.06-.94-.94-2.06-.94 2.06-2.06.94zm-11 1L8.5 8.5l.94-2.06 2.06-.94-2.06-.94L8.5 2.5l-.94 2.06-2.06.94zm10 10l.94 2.06.94-2.06 2.06-.94-2.06-.94-.94-2.06-.94 2.06-2.06.94z\"/><path d=\"M17.41 7.96l-1.37-1.37c-.4-.4-.92-.59-1.43-.59-.52 0-1.04.2-1.43.59L10.3 9.45l-7.72 7.72c-.78.78-.78 2.05 0 2.83L4 21.41c.39.39.9.59 1.41.59.51 0 1.02-.2 1.41-.59l7.78-7.78 2.81-2.81c.8-.78.8-2.07 0-2.86zM5.41 20L4 18.59l7.72-7.72 1.47 1.35L5.41 20z\"/>\n",
              "  </svg>\n",
              "      </button>\n",
              "      \n",
              "  <style>\n",
              "    .colab-df-container {\n",
              "      display:flex;\n",
              "      flex-wrap:wrap;\n",
              "      gap: 12px;\n",
              "    }\n",
              "\n",
              "    .colab-df-convert {\n",
              "      background-color: #E8F0FE;\n",
              "      border: none;\n",
              "      border-radius: 50%;\n",
              "      cursor: pointer;\n",
              "      display: none;\n",
              "      fill: #1967D2;\n",
              "      height: 32px;\n",
              "      padding: 0 0 0 0;\n",
              "      width: 32px;\n",
              "    }\n",
              "\n",
              "    .colab-df-convert:hover {\n",
              "      background-color: #E2EBFA;\n",
              "      box-shadow: 0px 1px 2px rgba(60, 64, 67, 0.3), 0px 1px 3px 1px rgba(60, 64, 67, 0.15);\n",
              "      fill: #174EA6;\n",
              "    }\n",
              "\n",
              "    [theme=dark] .colab-df-convert {\n",
              "      background-color: #3B4455;\n",
              "      fill: #D2E3FC;\n",
              "    }\n",
              "\n",
              "    [theme=dark] .colab-df-convert:hover {\n",
              "      background-color: #434B5C;\n",
              "      box-shadow: 0px 1px 3px 1px rgba(0, 0, 0, 0.15);\n",
              "      filter: drop-shadow(0px 1px 2px rgba(0, 0, 0, 0.3));\n",
              "      fill: #FFFFFF;\n",
              "    }\n",
              "  </style>\n",
              "\n",
              "      <script>\n",
              "        const buttonEl =\n",
              "          document.querySelector('#df-3e6aa39a-08cc-425e-bac3-474b5b0b48c2 button.colab-df-convert');\n",
              "        buttonEl.style.display =\n",
              "          google.colab.kernel.accessAllowed ? 'block' : 'none';\n",
              "\n",
              "        async function convertToInteractive(key) {\n",
              "          const element = document.querySelector('#df-3e6aa39a-08cc-425e-bac3-474b5b0b48c2');\n",
              "          const dataTable =\n",
              "            await google.colab.kernel.invokeFunction('convertToInteractive',\n",
              "                                                     [key], {});\n",
              "          if (!dataTable) return;\n",
              "\n",
              "          const docLinkHtml = 'Like what you see? Visit the ' +\n",
              "            '<a target=\"_blank\" href=https://colab.research.google.com/notebooks/data_table.ipynb>data table notebook</a>'\n",
              "            + ' to learn more about interactive tables.';\n",
              "          element.innerHTML = '';\n",
              "          dataTable['output_type'] = 'display_data';\n",
              "          await google.colab.output.renderOutput(dataTable, element);\n",
              "          const docLink = document.createElement('div');\n",
              "          docLink.innerHTML = docLinkHtml;\n",
              "          element.appendChild(docLink);\n",
              "        }\n",
              "      </script>\n",
              "    </div>\n",
              "  </div>\n",
              "  "
            ]
          },
          "metadata": {},
          "execution_count": 39
        }
      ]
    },
    {
      "cell_type": "code",
      "source": [
        "# #Standardization\n",
        "# from sklearn.preprocessing import StandardScaler\n",
        "# scaler = StandardScaler()\n",
        "# X_train=scaler.fit_transform(X_train)\n",
        "# X_test=scaler.transform(X_test)"
      ],
      "metadata": {
        "id": "ZR8H0iYtDMlX"
      },
      "execution_count": null,
      "outputs": []
    },
    {
      "cell_type": "code",
      "source": [
        "y = data[['Crystal System']] # target\n",
        "X = data.drop('Crystal System', axis=1) #features\n",
        "data_final = pd.concat([X, y], axis=1)"
      ],
      "metadata": {
        "id": "WV_2Ud93RydP"
      },
      "execution_count": null,
      "outputs": []
    },
    {
      "cell_type": "code",
      "source": [
        "data_final.head()"
      ],
      "metadata": {
        "colab": {
          "base_uri": "https://localhost:8080/",
          "height": 322
        },
        "id": "y25aTAedTKJh",
        "outputId": "1f7f534f-bfad-4e48-b69c-15299076a5c4"
      },
      "execution_count": null,
      "outputs": [
        {
          "output_type": "execute_result",
          "data": {
            "text/plain": [
              "   Spacegroup  Formation Energy (eV)  E Above Hull (eV)  Band Gap (eV)  \\\n",
              "0          31                 -2.699              0.006          3.462   \n",
              "1          21                 -2.696              0.008          2.879   \n",
              "2           6                 -2.775              0.012          3.653   \n",
              "3           1                 -2.783              0.013          3.015   \n",
              "4           1                 -2.747              0.016          2.578   \n",
              "\n",
              "   Nsites  Density (gm/cc)   Volume  Has Bandstructure  Spacegroup (ordinal)  \\\n",
              "0      16            2.993  178.513                  1                     0   \n",
              "1      32            2.926  365.272                  1                     1   \n",
              "2      28            2.761  301.775                  1                     2   \n",
              "3      38            2.908  436.183                  1                     3   \n",
              "4      36            3.334  421.286                  1                     3   \n",
              "\n",
              "   LiFeSiO4  LiCoSiO4  Li2FeSiO4  Li2CoSiO4  Li2MnSiO4  LiMnSiO4  \\\n",
              "0         0         0          0          0          1         0   \n",
              "1         0         0          0          0          1         0   \n",
              "2         0         0          0          0          0         0   \n",
              "3         0         0          0          0          0         0   \n",
              "4         0         0          0          0          0         0   \n",
              "\n",
              "   Li3Co2(SiO4)2  Li3Fe2(SiO4)2  LiFe(SiO3)2  Li2Mn(SiO3)2  Crystal System  \n",
              "0              0              0            0             0               0  \n",
              "1              0              0            0             0               0  \n",
              "2              0              0            0             0               0  \n",
              "3              0              0            0             0               0  \n",
              "4              0              0            0             0               0  "
            ],
            "text/html": [
              "\n",
              "  <div id=\"df-0678f01b-22d2-423b-b4f8-1f8b519744fb\">\n",
              "    <div class=\"colab-df-container\">\n",
              "      <div>\n",
              "<style scoped>\n",
              "    .dataframe tbody tr th:only-of-type {\n",
              "        vertical-align: middle;\n",
              "    }\n",
              "\n",
              "    .dataframe tbody tr th {\n",
              "        vertical-align: top;\n",
              "    }\n",
              "\n",
              "    .dataframe thead th {\n",
              "        text-align: right;\n",
              "    }\n",
              "</style>\n",
              "<table border=\"1\" class=\"dataframe\">\n",
              "  <thead>\n",
              "    <tr style=\"text-align: right;\">\n",
              "      <th></th>\n",
              "      <th>Spacegroup</th>\n",
              "      <th>Formation Energy (eV)</th>\n",
              "      <th>E Above Hull (eV)</th>\n",
              "      <th>Band Gap (eV)</th>\n",
              "      <th>Nsites</th>\n",
              "      <th>Density (gm/cc)</th>\n",
              "      <th>Volume</th>\n",
              "      <th>Has Bandstructure</th>\n",
              "      <th>Spacegroup (ordinal)</th>\n",
              "      <th>LiFeSiO4</th>\n",
              "      <th>LiCoSiO4</th>\n",
              "      <th>Li2FeSiO4</th>\n",
              "      <th>Li2CoSiO4</th>\n",
              "      <th>Li2MnSiO4</th>\n",
              "      <th>LiMnSiO4</th>\n",
              "      <th>Li3Co2(SiO4)2</th>\n",
              "      <th>Li3Fe2(SiO4)2</th>\n",
              "      <th>LiFe(SiO3)2</th>\n",
              "      <th>Li2Mn(SiO3)2</th>\n",
              "      <th>Crystal System</th>\n",
              "    </tr>\n",
              "  </thead>\n",
              "  <tbody>\n",
              "    <tr>\n",
              "      <th>0</th>\n",
              "      <td>31</td>\n",
              "      <td>-2.699</td>\n",
              "      <td>0.006</td>\n",
              "      <td>3.462</td>\n",
              "      <td>16</td>\n",
              "      <td>2.993</td>\n",
              "      <td>178.513</td>\n",
              "      <td>1</td>\n",
              "      <td>0</td>\n",
              "      <td>0</td>\n",
              "      <td>0</td>\n",
              "      <td>0</td>\n",
              "      <td>0</td>\n",
              "      <td>1</td>\n",
              "      <td>0</td>\n",
              "      <td>0</td>\n",
              "      <td>0</td>\n",
              "      <td>0</td>\n",
              "      <td>0</td>\n",
              "      <td>0</td>\n",
              "    </tr>\n",
              "    <tr>\n",
              "      <th>1</th>\n",
              "      <td>21</td>\n",
              "      <td>-2.696</td>\n",
              "      <td>0.008</td>\n",
              "      <td>2.879</td>\n",
              "      <td>32</td>\n",
              "      <td>2.926</td>\n",
              "      <td>365.272</td>\n",
              "      <td>1</td>\n",
              "      <td>1</td>\n",
              "      <td>0</td>\n",
              "      <td>0</td>\n",
              "      <td>0</td>\n",
              "      <td>0</td>\n",
              "      <td>1</td>\n",
              "      <td>0</td>\n",
              "      <td>0</td>\n",
              "      <td>0</td>\n",
              "      <td>0</td>\n",
              "      <td>0</td>\n",
              "      <td>0</td>\n",
              "    </tr>\n",
              "    <tr>\n",
              "      <th>2</th>\n",
              "      <td>6</td>\n",
              "      <td>-2.775</td>\n",
              "      <td>0.012</td>\n",
              "      <td>3.653</td>\n",
              "      <td>28</td>\n",
              "      <td>2.761</td>\n",
              "      <td>301.775</td>\n",
              "      <td>1</td>\n",
              "      <td>2</td>\n",
              "      <td>0</td>\n",
              "      <td>0</td>\n",
              "      <td>0</td>\n",
              "      <td>0</td>\n",
              "      <td>0</td>\n",
              "      <td>0</td>\n",
              "      <td>0</td>\n",
              "      <td>0</td>\n",
              "      <td>0</td>\n",
              "      <td>0</td>\n",
              "      <td>0</td>\n",
              "    </tr>\n",
              "    <tr>\n",
              "      <th>3</th>\n",
              "      <td>1</td>\n",
              "      <td>-2.783</td>\n",
              "      <td>0.013</td>\n",
              "      <td>3.015</td>\n",
              "      <td>38</td>\n",
              "      <td>2.908</td>\n",
              "      <td>436.183</td>\n",
              "      <td>1</td>\n",
              "      <td>3</td>\n",
              "      <td>0</td>\n",
              "      <td>0</td>\n",
              "      <td>0</td>\n",
              "      <td>0</td>\n",
              "      <td>0</td>\n",
              "      <td>0</td>\n",
              "      <td>0</td>\n",
              "      <td>0</td>\n",
              "      <td>0</td>\n",
              "      <td>0</td>\n",
              "      <td>0</td>\n",
              "    </tr>\n",
              "    <tr>\n",
              "      <th>4</th>\n",
              "      <td>1</td>\n",
              "      <td>-2.747</td>\n",
              "      <td>0.016</td>\n",
              "      <td>2.578</td>\n",
              "      <td>36</td>\n",
              "      <td>3.334</td>\n",
              "      <td>421.286</td>\n",
              "      <td>1</td>\n",
              "      <td>3</td>\n",
              "      <td>0</td>\n",
              "      <td>0</td>\n",
              "      <td>0</td>\n",
              "      <td>0</td>\n",
              "      <td>0</td>\n",
              "      <td>0</td>\n",
              "      <td>0</td>\n",
              "      <td>0</td>\n",
              "      <td>0</td>\n",
              "      <td>0</td>\n",
              "      <td>0</td>\n",
              "    </tr>\n",
              "  </tbody>\n",
              "</table>\n",
              "</div>\n",
              "      <button class=\"colab-df-convert\" onclick=\"convertToInteractive('df-0678f01b-22d2-423b-b4f8-1f8b519744fb')\"\n",
              "              title=\"Convert this dataframe to an interactive table.\"\n",
              "              style=\"display:none;\">\n",
              "        \n",
              "  <svg xmlns=\"http://www.w3.org/2000/svg\" height=\"24px\"viewBox=\"0 0 24 24\"\n",
              "       width=\"24px\">\n",
              "    <path d=\"M0 0h24v24H0V0z\" fill=\"none\"/>\n",
              "    <path d=\"M18.56 5.44l.94 2.06.94-2.06 2.06-.94-2.06-.94-.94-2.06-.94 2.06-2.06.94zm-11 1L8.5 8.5l.94-2.06 2.06-.94-2.06-.94L8.5 2.5l-.94 2.06-2.06.94zm10 10l.94 2.06.94-2.06 2.06-.94-2.06-.94-.94-2.06-.94 2.06-2.06.94z\"/><path d=\"M17.41 7.96l-1.37-1.37c-.4-.4-.92-.59-1.43-.59-.52 0-1.04.2-1.43.59L10.3 9.45l-7.72 7.72c-.78.78-.78 2.05 0 2.83L4 21.41c.39.39.9.59 1.41.59.51 0 1.02-.2 1.41-.59l7.78-7.78 2.81-2.81c.8-.78.8-2.07 0-2.86zM5.41 20L4 18.59l7.72-7.72 1.47 1.35L5.41 20z\"/>\n",
              "  </svg>\n",
              "      </button>\n",
              "      \n",
              "  <style>\n",
              "    .colab-df-container {\n",
              "      display:flex;\n",
              "      flex-wrap:wrap;\n",
              "      gap: 12px;\n",
              "    }\n",
              "\n",
              "    .colab-df-convert {\n",
              "      background-color: #E8F0FE;\n",
              "      border: none;\n",
              "      border-radius: 50%;\n",
              "      cursor: pointer;\n",
              "      display: none;\n",
              "      fill: #1967D2;\n",
              "      height: 32px;\n",
              "      padding: 0 0 0 0;\n",
              "      width: 32px;\n",
              "    }\n",
              "\n",
              "    .colab-df-convert:hover {\n",
              "      background-color: #E2EBFA;\n",
              "      box-shadow: 0px 1px 2px rgba(60, 64, 67, 0.3), 0px 1px 3px 1px rgba(60, 64, 67, 0.15);\n",
              "      fill: #174EA6;\n",
              "    }\n",
              "\n",
              "    [theme=dark] .colab-df-convert {\n",
              "      background-color: #3B4455;\n",
              "      fill: #D2E3FC;\n",
              "    }\n",
              "\n",
              "    [theme=dark] .colab-df-convert:hover {\n",
              "      background-color: #434B5C;\n",
              "      box-shadow: 0px 1px 3px 1px rgba(0, 0, 0, 0.15);\n",
              "      filter: drop-shadow(0px 1px 2px rgba(0, 0, 0, 0.3));\n",
              "      fill: #FFFFFF;\n",
              "    }\n",
              "  </style>\n",
              "\n",
              "      <script>\n",
              "        const buttonEl =\n",
              "          document.querySelector('#df-0678f01b-22d2-423b-b4f8-1f8b519744fb button.colab-df-convert');\n",
              "        buttonEl.style.display =\n",
              "          google.colab.kernel.accessAllowed ? 'block' : 'none';\n",
              "\n",
              "        async function convertToInteractive(key) {\n",
              "          const element = document.querySelector('#df-0678f01b-22d2-423b-b4f8-1f8b519744fb');\n",
              "          const dataTable =\n",
              "            await google.colab.kernel.invokeFunction('convertToInteractive',\n",
              "                                                     [key], {});\n",
              "          if (!dataTable) return;\n",
              "\n",
              "          const docLinkHtml = 'Like what you see? Visit the ' +\n",
              "            '<a target=\"_blank\" href=https://colab.research.google.com/notebooks/data_table.ipynb>data table notebook</a>'\n",
              "            + ' to learn more about interactive tables.';\n",
              "          element.innerHTML = '';\n",
              "          dataTable['output_type'] = 'display_data';\n",
              "          await google.colab.output.renderOutput(dataTable, element);\n",
              "          const docLink = document.createElement('div');\n",
              "          docLink.innerHTML = docLinkHtml;\n",
              "          element.appendChild(docLink);\n",
              "        }\n",
              "      </script>\n",
              "    </div>\n",
              "  </div>\n",
              "  "
            ]
          },
          "metadata": {},
          "execution_count": 42
        }
      ]
    },
    {
      "cell_type": "code",
      "source": [
        "X_train, X_test, y_train, y_test = train_test_split(X, y, test_size = 0.2, random_state = 0)"
      ],
      "metadata": {
        "id": "ptKNQYWPTMg8"
      },
      "execution_count": null,
      "outputs": []
    },
    {
      "cell_type": "markdown",
      "source": [
        "###Logistic Regression"
      ],
      "metadata": {
        "id": "gfyNusIoK_Ej"
      }
    },
    {
      "cell_type": "code",
      "source": [
        "#Fitting model on training data\n",
        "lr = LogisticRegression()\n",
        "model1 = lr.fit(X_train,y_train)\n",
        "model1"
      ],
      "metadata": {
        "colab": {
          "base_uri": "https://localhost:8080/"
        },
        "id": "V72jy07WTY92",
        "outputId": "8647e6aa-24b9-4a77-b3a9-3492c2b1acde"
      },
      "execution_count": null,
      "outputs": [
        {
          "output_type": "stream",
          "name": "stderr",
          "text": [
            "/usr/local/lib/python3.7/dist-packages/sklearn/utils/validation.py:993: DataConversionWarning: A column-vector y was passed when a 1d array was expected. Please change the shape of y to (n_samples, ), for example using ravel().\n",
            "  y = column_or_1d(y, warn=True)\n",
            "/usr/local/lib/python3.7/dist-packages/sklearn/linear_model/_logistic.py:818: ConvergenceWarning: lbfgs failed to converge (status=1):\n",
            "STOP: TOTAL NO. of ITERATIONS REACHED LIMIT.\n",
            "\n",
            "Increase the number of iterations (max_iter) or scale the data as shown in:\n",
            "    https://scikit-learn.org/stable/modules/preprocessing.html\n",
            "Please also refer to the documentation for alternative solver options:\n",
            "    https://scikit-learn.org/stable/modules/linear_model.html#logistic-regression\n",
            "  extra_warning_msg=_LOGISTIC_SOLVER_CONVERGENCE_MSG,\n"
          ]
        },
        {
          "output_type": "execute_result",
          "data": {
            "text/plain": [
              "LogisticRegression()"
            ]
          },
          "metadata": {},
          "execution_count": 44
        }
      ]
    },
    {
      "cell_type": "code",
      "source": [
        "#Storing model predictions on testing data\n",
        "y_pred=lr.predict(X_test)"
      ],
      "metadata": {
        "id": "0A1zxBh4VCzo"
      },
      "execution_count": null,
      "outputs": []
    },
    {
      "cell_type": "code",
      "source": [
        "#Using seaborn for ploting heatmap\n",
        "sns.heatmap(confusion_matrix(y_test, y_pred), annot=True,cmap ='coolwarm' )\n",
        "plt.show()"
      ],
      "metadata": {
        "colab": {
          "base_uri": "https://localhost:8080/",
          "height": 265
        },
        "id": "71MQR7hiVlDH",
        "outputId": "a113d6f8-9cdb-42a8-cf20-3cb9c8c2fef0"
      },
      "execution_count": null,
      "outputs": [
        {
          "output_type": "display_data",
          "data": {
            "text/plain": [
              "<Figure size 432x288 with 2 Axes>"
            ],
            "image/png": "[encoded data removed]"
          },
          "metadata": {
            "needs_background": "light"
          }
        }
      ]
    },
    {
      "cell_type": "code",
      "source": [
        "#Print various scores of model 1 i.e.logistic regression\n",
        "accuracy_1 = accuracy_score(y_test,y_pred)\n",
        "print(\"Accuracy of logistic regression model is :\",accuracy_1)\n",
        "print(\"Precision of logistic regression model is :\",metrics.precision_score(y_test, y_pred, average='micro'))\n",
        "print(\"Recall of logistic regression model is :\",metrics.recall_score(y_test, y_pred, average='micro'))"
      ],
      "metadata": {
        "colab": {
          "base_uri": "https://localhost:8080/"
        },
        "id": "P3PpI_4jVzfF",
        "outputId": "2d2efae1-ac7c-481c-c282-a0fcd8470531"
      },
      "execution_count": null,
      "outputs": [
        {
          "output_type": "stream",
          "name": "stdout",
          "text": [
            "Accuracy of logistic regression model is : 0.9558823529411765\n",
            "Precision of logistic regression model is : 0.9558823529411765\n",
            "Recall of logistic regression model is : 0.9558823529411765\n"
          ]
        }
      ]
    },
    {
      "cell_type": "markdown",
      "source": [
        "#### Lasso and Ridge regression (r^2 score and MSE)"
      ],
      "metadata": {
        "id": "AQDokO5nXlnD"
      }
    },
    {
      "cell_type": "code",
      "source": [
        "mean_squared_error(y_test,model1.predict(X_test))"
      ],
      "metadata": {
        "colab": {
          "base_uri": "https://localhost:8080/"
        },
        "id": "f7hyk2OYV7Hr",
        "outputId": "d3856dc0-7b59-4729-cd6d-27630e4846c2"
      },
      "execution_count": null,
      "outputs": [
        {
          "output_type": "execute_result",
          "data": {
            "text/plain": [
              "0.04411764705882353"
            ]
          },
          "metadata": {},
          "execution_count": 48
        }
      ]
    },
    {
      "cell_type": "code",
      "source": [
        "r2 = r2_score(y_test,model1.predict(X_test))\n",
        "print(r2)"
      ],
      "metadata": {
        "colab": {
          "base_uri": "https://localhost:8080/"
        },
        "id": "xff5jAo5XLVZ",
        "outputId": "d07954c3-bf69-494e-dfae-fbff63e3896d"
      },
      "execution_count": null,
      "outputs": [
        {
          "output_type": "stream",
          "name": "stdout",
          "text": [
            "0.9252199413489736\n"
          ]
        }
      ]
    },
    {
      "cell_type": "code",
      "source": [
        "#Lasso regularization\n",
        "a = [0.001, 0.005, 0.01, 0.05, 0.1,0.5]\n",
        "for i in range(len(a)):\n",
        "  lasso_reg = linear_model.Lasso(alpha = a[i] )\n",
        "  lasso_reg.fit(X_train,y_train)\n",
        "  r2_l = r2_score(y_test,lasso_reg.predict(X_test))\n",
        "  print(\"For alpha = \" + str(a[i]) + \" : MSE is \" + str(mean_squared_error(y_test,lasso_reg.predict(X_test))) + \"and r^2 score is : \" + str(r2_l))\n"
      ],
      "metadata": {
        "colab": {
          "base_uri": "https://localhost:8080/"
        },
        "id": "UbdrpBg6XN8Z",
        "outputId": "6d9b9ae1-7966-4d6d-ee1a-902e9b9447fa"
      },
      "execution_count": null,
      "outputs": [
        {
          "output_type": "stream",
          "name": "stdout",
          "text": [
            "For alpha = 0.001 : MSE is 0.06767551382240884and r^2 score is : 0.8852890117614302\n",
            "For alpha = 0.005 : MSE is 0.06815840975079497and r^2 score is : 0.8844704960822302\n",
            "For alpha = 0.01 : MSE is 0.0686962212700239and r^2 score is : 0.8835588976713378\n",
            "For alpha = 0.05 : MSE is 0.06874593879130389and r^2 score is : 0.8834746257437722\n",
            "For alpha = 0.1 : MSE is 0.06903943985091732and r^2 score is : 0.8829771371441929\n",
            "For alpha = 0.5 : MSE is 0.07003776157246654and r^2 score is : 0.8812849671880185\n"
          ]
        }
      ]
    },
    {
      "cell_type": "code",
      "source": [
        "#Ridge regularization\n",
        "for i in range(len(a)):\n",
        "  r_reg = Ridge(alpha = a[i] )\n",
        "  r_reg.fit(X_train,y_train)\n",
        "  r2_l = r2_score(y_test,r_reg.predict(X_test))\n",
        "  print(\"For alpha = \" + str(a[i]) + \" : MSE is \" + str(mean_squared_error(y_test,r_reg.predict(X_test))) + \"and r^2 score is : \" + str(r2_l))"
      ],
      "metadata": {
        "colab": {
          "base_uri": "https://localhost:8080/"
        },
        "id": "2ZFtg5zZXT0n",
        "outputId": "e67fc589-be32-4305-da9c-934704963134"
      },
      "execution_count": null,
      "outputs": [
        {
          "output_type": "stream",
          "name": "stdout",
          "text": [
            "For alpha = 0.001 : MSE is 0.06732565100477352and r^2 score is : 0.8858820343672753\n",
            "For alpha = 0.005 : MSE is 0.06727197895569804and r^2 score is : 0.8859730092774385\n",
            "For alpha = 0.01 : MSE is 0.06721461553500238and r^2 score is : 0.8860702411166235\n",
            "For alpha = 0.05 : MSE is 0.06698667116480428and r^2 score is : 0.8864566101664021\n",
            "For alpha = 0.1 : MSE is 0.06693811701324952and r^2 score is : 0.8865389101652251\n",
            "For alpha = 0.5 : MSE is 0.06724116128768476and r^2 score is : 0.8860252456765929\n"
          ]
        }
      ]
    },
    {
      "cell_type": "markdown",
      "source": [
        "####Ridge Regression"
      ],
      "metadata": {
        "id": "JIATuUQ2EWvw"
      }
    },
    {
      "cell_type": "code",
      "source": [
        "from sklearn.linear_model import Ridge\n",
        "from sklearn.model_selection import GridSearchCV"
      ],
      "metadata": {
        "id": "jIIaLQ8bXb-I"
      },
      "execution_count": null,
      "outputs": []
    },
    {
      "cell_type": "code",
      "source": [
        "ridge_regressor = Ridge()"
      ],
      "metadata": {
        "id": "ofCPILorYwa0"
      },
      "execution_count": null,
      "outputs": []
    },
    {
      "cell_type": "code",
      "source": [
        "parameters={'alpha': [1,2,3,4,5,10,20,30,40,50,60,70,80,90]}\n",
        "ridgecv = GridSearchCV(ridge_regressor, parameters, scoring= 'neg_mean_squared_error', cv=5)\n",
        "ridgecv.fit(X_train,y_train)"
      ],
      "metadata": {
        "colab": {
          "base_uri": "https://localhost:8080/"
        },
        "id": "wOKhnlDMY9HP",
        "outputId": "07a62047-efc7-4f21-c2c2-95f6d7acde81"
      },
      "execution_count": null,
      "outputs": [
        {
          "output_type": "execute_result",
          "data": {
            "text/plain": [
              "GridSearchCV(cv=5, estimator=Ridge(),\n",
              "             param_grid={'alpha': [1, 2, 3, 4, 5, 10, 20, 30, 40, 50, 60, 70,\n",
              "                                   80, 90]},\n",
              "             scoring='neg_mean_squared_error')"
            ]
          },
          "metadata": {},
          "execution_count": 54
        }
      ]
    },
    {
      "cell_type": "code",
      "source": [
        "print(\"best parameter is \" , ridgecv.best_params_)\n",
        "print(\"best score is \", ridgecv.best_score_)"
      ],
      "metadata": {
        "colab": {
          "base_uri": "https://localhost:8080/"
        },
        "id": "tKpd0yIA_FZ6",
        "outputId": "74f382ba-2778-4e42-971f-c0868d762230"
      },
      "execution_count": null,
      "outputs": [
        {
          "output_type": "stream",
          "name": "stdout",
          "text": [
            "best parameter is  {'alpha': 90}\n",
            "best score is  -0.05903014406371846\n"
          ]
        }
      ]
    },
    {
      "cell_type": "code",
      "source": [
        "ridge_pred = ridgecv.predict(X_test)"
      ],
      "metadata": {
        "id": "vbehuNrI_l_F"
      },
      "execution_count": null,
      "outputs": []
    },
    {
      "cell_type": "code",
      "source": [
        "sns.distplot(ridge_pred-y_test)"
      ],
      "metadata": {
        "colab": {
          "base_uri": "https://localhost:8080/"
        },
        "id": "BTrLZseZAtKr",
        "outputId": "efe30858-da86-407d-9a87-641de4ba4a49"
      },
      "execution_count": null,
      "outputs": [
        {
          "output_type": "stream",
          "name": "stderr",
          "text": [
            "/usr/local/lib/python3.7/dist-packages/seaborn/distributions.py:2619: FutureWarning: `distplot` is a deprecated function and will be removed in a future version. Please adapt your code to use either `displot` (a figure-level function with similar flexibility) or `histplot` (an axes-level function for histograms).\n",
            "  warnings.warn(msg, FutureWarning)\n"
          ]
        },
        {
          "output_type": "execute_result",
          "data": {
            "text/plain": [
              "<matplotlib.axes._subplots.AxesSubplot at 0x7f01e7500e50>"
            ]
          },
          "metadata": {},
          "execution_count": 57
        },
        {
          "output_type": "display_data",
          "data": {
            "text/plain": [
              "<Figure size 432x288 with 1 Axes>"
            ],
            "image/png": "[encoded data removed]"
          },
          "metadata": {
            "needs_background": "light"
          }
        }
      ]
    },
    {
      "cell_type": "code",
      "source": [],
      "metadata": {
        "id": "YAZGYeJRAu3F"
      },
      "execution_count": null,
      "outputs": []
    },
    {
      "cell_type": "markdown",
      "source": [
        "#### Lasso regression"
      ],
      "metadata": {
        "id": "imYUqgPsEbja"
      }
    },
    {
      "cell_type": "code",
      "source": [
        "lasso = Lasso()"
      ],
      "metadata": {
        "id": "ZFFe8N6nEdt8"
      },
      "execution_count": null,
      "outputs": []
    },
    {
      "cell_type": "code",
      "source": [
        "parameters={'alpha': [1,2,3,4,5,10,20,30,40,50,60,70,80,90]}\n",
        "lassocv = GridSearchCV(lasso, parameters, scoring= 'neg_mean_squared_error', cv=5)\n",
        "lassocv.fit(X_train,y_train)"
      ],
      "metadata": {
        "colab": {
          "base_uri": "https://localhost:8080/"
        },
        "id": "TPmf7YYSEpB7",
        "outputId": "9c647cd9-a7f3-4d64-d921-c0ce4c26ef19"
      },
      "execution_count": null,
      "outputs": [
        {
          "output_type": "execute_result",
          "data": {
            "text/plain": [
              "GridSearchCV(cv=5, estimator=Lasso(),\n",
              "             param_grid={'alpha': [1, 2, 3, 4, 5, 10, 20, 30, 40, 50, 60, 70,\n",
              "                                   80, 90]},\n",
              "             scoring='neg_mean_squared_error')"
            ]
          },
          "metadata": {},
          "execution_count": 59
        }
      ]
    },
    {
      "cell_type": "code",
      "source": [
        " lasso_pred = lassocv.predict(X_test)"
      ],
      "metadata": {
        "id": "NxRZY29sFPs6"
      },
      "execution_count": null,
      "outputs": []
    },
    {
      "cell_type": "code",
      "source": [
        "lasso_pred = lasso_pred.reshape(68,1)\n",
        "sns.distplot(lasso_pred-y_test)"
      ],
      "metadata": {
        "colab": {
          "base_uri": "https://localhost:8080/",
          "height": 337
        },
        "id": "y_E1nWIgIKne",
        "outputId": "fd5f2e34-a43e-4122-d849-6333348e7519"
      },
      "execution_count": null,
      "outputs": [
        {
          "output_type": "stream",
          "name": "stderr",
          "text": [
            "/usr/local/lib/python3.7/dist-packages/seaborn/distributions.py:2619: FutureWarning: `distplot` is a deprecated function and will be removed in a future version. Please adapt your code to use either `displot` (a figure-level function with similar flexibility) or `histplot` (an axes-level function for histograms).\n",
            "  warnings.warn(msg, FutureWarning)\n"
          ]
        },
        {
          "output_type": "execute_result",
          "data": {
            "text/plain": [
              "<matplotlib.axes._subplots.AxesSubplot at 0x7f01e743d950>"
            ]
          },
          "metadata": {},
          "execution_count": 61
        },
        {
          "output_type": "display_data",
          "data": {
            "text/plain": [
              "<Figure size 432x288 with 1 Axes>"
            ],
            "image/png": "[encoded data removed]"
          },
          "metadata": {
            "needs_background": "light"
          }
        }
      ]
    },
    {
      "cell_type": "code",
      "source": [
        "print(\"best parameter is \" , lassocv.best_params_)\n",
        "print(\"best score is \", lassocv.best_score_)"
      ],
      "metadata": {
        "colab": {
          "base_uri": "https://localhost:8080/"
        },
        "id": "X4iGTOD1IpDA",
        "outputId": "8e6b9764-d1fb-40b7-ad55-36a12f62c6eb"
      },
      "execution_count": null,
      "outputs": [
        {
          "output_type": "stream",
          "name": "stdout",
          "text": [
            "best parameter is  {'alpha': 1}\n",
            "best score is  -0.06451504384578542\n"
          ]
        }
      ]
    },
    {
      "cell_type": "code",
      "source": [],
      "metadata": {
        "id": "wh3sX4J1Jr9v"
      },
      "execution_count": null,
      "outputs": []
    },
    {
      "cell_type": "markdown",
      "source": [
        "### Random Forest"
      ],
      "metadata": {
        "id": "x1byZ5Ijdiqe"
      }
    },
    {
      "cell_type": "code",
      "source": [
        "# from sklearn.ensemble import RandomForestClassifier\n",
        "# rf_classifier=RandomForestClassifier(n_estimators=10).fit(X_train,y_train)\n",
        "# prediction=rf_classifier.predict(X_test)"
      ],
      "metadata": {
        "colab": {
          "base_uri": "https://localhost:8080/"
        },
        "id": "duZqnwd2dkvf",
        "outputId": "e804d864-08f9-43ec-a154-3fd36630d293"
      },
      "execution_count": null,
      "outputs": [
        {
          "output_type": "stream",
          "name": "stderr",
          "text": [
            "/usr/local/lib/python3.7/dist-packages/ipykernel_launcher.py:2: DataConversionWarning: A column-vector y was passed when a 1d array was expected. Please change the shape of y to (n_samples,), for example using ravel().\n",
            "  \n"
          ]
        }
      ]
    },
    {
      "cell_type": "code",
      "source": [
        "# from sklearn.metrics import confusion_matrix,classification_report,accuracy_score\n",
        "# print(confusion_matrix(y_test,prediction))\n",
        "# print(accuracy_score(y_test,prediction))\n",
        "# print(classification_report(y_test,prediction))"
      ],
      "metadata": {
        "colab": {
          "base_uri": "https://localhost:8080/"
        },
        "id": "XLXReUcvdloF",
        "outputId": "485149e1-4ab9-4b98-d9d2-01bb3d9526e3"
      },
      "execution_count": null,
      "outputs": [
        {
          "output_type": "stream",
          "name": "stdout",
          "text": [
            "[[33  0  0]\n",
            " [ 0 22  0]\n",
            " [ 0  0 13]]\n",
            "1.0\n",
            "              precision    recall  f1-score   support\n",
            "\n",
            "           0       1.00      1.00      1.00        33\n",
            "           1       1.00      1.00      1.00        22\n",
            "           2       1.00      1.00      1.00        13\n",
            "\n",
            "    accuracy                           1.00        68\n",
            "   macro avg       1.00      1.00      1.00        68\n",
            "weighted avg       1.00      1.00      1.00        68\n",
            "\n"
          ]
        }
      ]
    },
    {
      "cell_type": "code",
      "source": [
        "import numpy as np\n",
        "from sklearn.model_selection import RandomizedSearchCV\n",
        "# Number of trees in random forest\n",
        "n_estimators = [int(x) for x in np.linspace(start = 100, stop = 2000, num = 10)]\n",
        "# Number of features to consider at every split\n",
        "max_features = ['auto', 'sqrt','log2']\n",
        "# Maximum number of levels in tree\n",
        "max_depth = [int(x) for x in np.linspace(10, 1000,10)]\n",
        "# Minimum number of samples required to split a node\n",
        "min_samples_split = [2, 5, 10,14]\n",
        "# Minimum number of samples required at each leaf node\n",
        "min_samples_leaf = [1, 2, 4,6,8]\n",
        "# Create the random grid\n",
        "random_grid = {'n_estimators': n_estimators,\n",
        "               'max_features': max_features,\n",
        "               'max_depth': max_depth,\n",
        "               'min_samples_split': min_samples_split,\n",
        "               'min_samples_leaf': min_samples_leaf,\n",
        "              'criterion':['entropy','gini']}\n",
        "print(random_grid)"
      ],
      "metadata": {
        "colab": {
          "base_uri": "https://localhost:8080/"
        },
        "id": "ZKR5elfKejXi",
        "outputId": "61a37da6-03c4-4f5d-f98c-e708369a7e72"
      },
      "execution_count": null,
      "outputs": [
        {
          "output_type": "stream",
          "name": "stdout",
          "text": [
            "{'n_estimators': [100, 311, 522, 733, 944, 1155, 1366, 1577, 1788, 2000], 'max_features': ['auto', 'sqrt', 'log2'], 'max_depth': [10, 120, 230, 340, 450, 560, 670, 780, 890, 1000], 'min_samples_split': [2, 5, 10, 14], 'min_samples_leaf': [1, 2, 4, 6, 8], 'criterion': ['entropy', 'gini']}\n"
          ]
        }
      ]
    },
    {
      "cell_type": "code",
      "source": [
        "rf=RandomForestClassifier()\n",
        "rf_randomcv=RandomizedSearchCV(estimator=rf,param_distributions=random_grid,n_iter=200,cv=3,verbose=2,\n",
        "                               random_state=100,n_jobs=-1)\n",
        "### fit the randomized model\n",
        "rf_randomcv.fit(X_train,y_train)"
      ],
      "metadata": {
        "colab": {
          "base_uri": "https://localhost:8080/"
        },
        "id": "c_p_792QjMoh",
        "outputId": "075cb5d7-9687-4de9-cf2c-fad52abf1254"
      },
      "execution_count": null,
      "outputs": [
        {
          "output_type": "stream",
          "name": "stdout",
          "text": [
            "Fitting 3 folds for each of 200 candidates, totalling 600 fits\n"
          ]
        },
        {
          "output_type": "stream",
          "name": "stderr",
          "text": [
            "/usr/local/lib/python3.7/dist-packages/sklearn/model_selection/_search.py:926: DataConversionWarning: A column-vector y was passed when a 1d array was expected. Please change the shape of y to (n_samples,), for example using ravel().\n",
            "  self.best_estimator_.fit(X, y, **fit_params)\n"
          ]
        },
        {
          "output_type": "execute_result",
          "data": {
            "text/plain": [
              "RandomizedSearchCV(cv=3, estimator=RandomForestClassifier(), n_iter=200,\n",
              "                   n_jobs=-1,\n",
              "                   param_distributions={'criterion': ['entropy', 'gini'],\n",
              "                                        'max_depth': [10, 120, 230, 340, 450,\n",
              "                                                      560, 670, 780, 890,\n",
              "                                                      1000],\n",
              "                                        'max_features': ['auto', 'sqrt',\n",
              "                                                         'log2'],\n",
              "                                        'min_samples_leaf': [1, 2, 4, 6, 8],\n",
              "                                        'min_samples_split': [2, 5, 10, 14],\n",
              "                                        'n_estimators': [100, 311, 522, 733,\n",
              "                                                         944, 1155, 1366, 1577,\n",
              "                                                         1788, 2000]},\n",
              "                   random_state=100, verbose=2)"
            ]
          },
          "metadata": {},
          "execution_count": 86
        }
      ]
    },
    {
      "cell_type": "code",
      "source": [
        "rf_randomcv.best_params_"
      ],
      "metadata": {
        "colab": {
          "base_uri": "https://localhost:8080/"
        },
        "id": "cwRoUu6fjQ66",
        "outputId": "b71db005-cb60-467b-8d65-e6fa87d37725"
      },
      "execution_count": null,
      "outputs": [
        {
          "output_type": "execute_result",
          "data": {
            "text/plain": [
              "{'n_estimators': 1366,\n",
              " 'min_samples_split': 2,\n",
              " 'min_samples_leaf': 1,\n",
              " 'max_features': 'auto',\n",
              " 'max_depth': 560,\n",
              " 'criterion': 'entropy'}"
            ]
          },
          "metadata": {},
          "execution_count": 87
        }
      ]
    },
    {
      "cell_type": "code",
      "source": [
        "rf_randomcv"
      ],
      "metadata": {
        "colab": {
          "base_uri": "https://localhost:8080/"
        },
        "id": "myv6vLPmkx73",
        "outputId": "548cc9f2-7c63-41c2-cc44-769a935d4917"
      },
      "execution_count": null,
      "outputs": [
        {
          "output_type": "execute_result",
          "data": {
            "text/plain": [
              "RandomizedSearchCV(cv=3, estimator=RandomForestClassifier(), n_iter=200,\n",
              "                   n_jobs=-1,\n",
              "                   param_distributions={'criterion': ['entropy', 'gini'],\n",
              "                                        'max_depth': [10, 120, 230, 340, 450,\n",
              "                                                      560, 670, 780, 890,\n",
              "                                                      1000],\n",
              "                                        'max_features': ['auto', 'sqrt',\n",
              "                                                         'log2'],\n",
              "                                        'min_samples_leaf': [1, 2, 4, 6, 8],\n",
              "                                        'min_samples_split': [2, 5, 10, 14],\n",
              "                                        'n_estimators': [100, 311, 522, 733,\n",
              "                                                         944, 1155, 1366, 1577,\n",
              "                                                         1788, 2000]},\n",
              "                   random_state=100, verbose=2)"
            ]
          },
          "metadata": {},
          "execution_count": 88
        }
      ]
    },
    {
      "cell_type": "code",
      "source": [
        "best_random_grid=rf_randomcv.best_estimator_"
      ],
      "metadata": {
        "id": "tn8sa0AMk4cp"
      },
      "execution_count": null,
      "outputs": []
    },
    {
      "cell_type": "code",
      "source": [
        "from sklearn.metrics import accuracy_score\n",
        "y_pred=best_random_grid.predict(X_test)\n",
        "print(confusion_matrix(y_test,y_pred))\n",
        "print(\"Accuracy Score {}\".format(accuracy_score(y_test,y_pred)))\n",
        "print(\"Classification report: {}\".format(classification_report(y_test,y_pred)))"
      ],
      "metadata": {
        "colab": {
          "base_uri": "https://localhost:8080/"
        },
        "id": "EG6jlTH0k7zj",
        "outputId": "32759bf9-1739-4360-acdd-af72c66541e6"
      },
      "execution_count": null,
      "outputs": [
        {
          "output_type": "stream",
          "name": "stdout",
          "text": [
            "[[33  0  0]\n",
            " [ 0 22  0]\n",
            " [ 0  0 13]]\n",
            "Accuracy Score 1.0\n",
            "Classification report:               precision    recall  f1-score   support\n",
            "\n",
            "           0       1.00      1.00      1.00        33\n",
            "           1       1.00      1.00      1.00        22\n",
            "           2       1.00      1.00      1.00        13\n",
            "\n",
            "    accuracy                           1.00        68\n",
            "   macro avg       1.00      1.00      1.00        68\n",
            "weighted avg       1.00      1.00      1.00        68\n",
            "\n"
          ]
        }
      ]
    },
    {
      "cell_type": "code",
      "source": [],
      "metadata": {
        "id": "SPSLbp2ik-jf"
      },
      "execution_count": null,
      "outputs": []
    },
    {
      "cell_type": "markdown",
      "source": [
        "##Finding best model"
      ],
      "metadata": {
        "id": "wrzR1H7LpSSO"
      }
    },
    {
      "cell_type": "code",
      "source": [
        "from sklearn import svm\n",
        "from sklearn.ensemble import RandomForestClassifier\n",
        "from sklearn.linear_model import LogisticRegression\n",
        "from sklearn.naive_bayes import GaussianNB\n",
        "from sklearn.naive_bayes import MultinomialNB\n",
        "from sklearn.tree import DecisionTreeClassifier\n",
        "import os\n",
        "import warnings\n",
        "warnings.filterwarnings('ignore')"
      ],
      "metadata": {
        "id": "mc5nDJCtpTT9"
      },
      "execution_count": null,
      "outputs": []
    },
    {
      "cell_type": "code",
      "source": [
        "model_params = {\n",
        "    'svm': {\n",
        "        'model': svm.SVC(gamma='auto'),\n",
        "        'params' : {\n",
        "            'C': [1,10,20],\n",
        "            'kernel': ['rbf','linear']\n",
        "        }\n",
        "    },\n",
        "    'random_forest': {\n",
        "        'model': RandomForestClassifier(),\n",
        "        'params' : {'n_estimators': [100,1500,10]}\n",
        "    },\n",
        "    'logistic_regression' : {\n",
        "        'model': LogisticRegression(solver='liblinear',multi_class='auto'),\n",
        "        'params': {\n",
        "            'C': [1,5,10]\n",
        "        }\n",
        "    },\n",
        "    'naive_bayes_gaussian': {\n",
        "        'model': GaussianNB(),\n",
        "        'params': {}\n",
        "    },\n",
        "    # 'naive_bayes_multinomial': {\n",
        "    #     'model': MultinomialNB(),\n",
        "    #     'params': {}\n",
        "    # },\n",
        "    'decision_tree': {\n",
        "        'model': DecisionTreeClassifier(),\n",
        "        'params': {\n",
        "            'criterion': ['gini','entropy'],\n",
        "\n",
        "        }\n",
        "    }\n",
        "}"
      ],
      "metadata": {
        "id": "5cDwEY_HvpW6"
      },
      "execution_count": null,
      "outputs": []
    },
    {
      "cell_type": "code",
      "source": [
        "from sklearn.model_selection import GridSearchCV\n",
        "import pandas as pd\n",
        "scores = []\n",
        "\n",
        "for model_name, mp in model_params.items():\n",
        "    clf =  GridSearchCV(mp['model'], mp['params'], cv=5, return_train_score=False)\n",
        "    clf.fit(X,y)\n",
        "    scores.append({\n",
        "        'model': model_name,\n",
        "        'best_score': clf.best_score_,\n",
        "        'best_params': clf.best_params_\n",
        "    })\n",
        "\n",
        "df = pd.DataFrame(scores,columns=['model','best_score','best_params'])\n",
        "df"
      ],
      "metadata": {
        "colab": {
          "base_uri": "https://localhost:8080/",
          "height": 206
        },
        "id": "GbLpaOU9DdEI",
        "outputId": "3d9fb044-8f62-43ca-bc36-08d01a9c6547"
      },
      "execution_count": null,
      "outputs": [
        {
          "output_type": "execute_result",
          "data": {
            "text/plain": [
              "                  model  best_score                   best_params\n",
              "0                   svm    0.988147  {'C': 1, 'kernel': 'linear'}\n",
              "1         random_forest    0.997015         {'n_estimators': 100}\n",
              "2   logistic_regression    0.970457                      {'C': 1}\n",
              "3  naive_bayes_gaussian    0.858428                            {}\n",
              "4         decision_tree    0.997015         {'criterion': 'gini'}"
            ],
            "text/html": [
              "\n",
              "  <div id=\"df-09abaeeb-ee0d-444f-98de-067c5bdd6f24\">\n",
              "    <div class=\"colab-df-container\">\n",
              "      <div>\n",
              "<style scoped>\n",
              "    .dataframe tbody tr th:only-of-type {\n",
              "        vertical-align: middle;\n",
              "    }\n",
              "\n",
              "    .dataframe tbody tr th {\n",
              "        vertical-align: top;\n",
              "    }\n",
              "\n",
              "    .dataframe thead th {\n",
              "        text-align: right;\n",
              "    }\n",
              "</style>\n",
              "<table border=\"1\" class=\"dataframe\">\n",
              "  <thead>\n",
              "    <tr style=\"text-align: right;\">\n",
              "      <th></th>\n",
              "      <th>model</th>\n",
              "      <th>best_score</th>\n",
              "      <th>best_params</th>\n",
              "    </tr>\n",
              "  </thead>\n",
              "  <tbody>\n",
              "    <tr>\n",
              "      <th>0</th>\n",
              "      <td>svm</td>\n",
              "      <td>0.988147</td>\n",
              "      <td>{'C': 1, 'kernel': 'linear'}</td>\n",
              "    </tr>\n",
              "    <tr>\n",
              "      <th>1</th>\n",
              "      <td>random_forest</td>\n",
              "      <td>0.997015</td>\n",
              "      <td>{'n_estimators': 100}</td>\n",
              "    </tr>\n",
              "    <tr>\n",
              "      <th>2</th>\n",
              "      <td>logistic_regression</td>\n",
              "      <td>0.970457</td>\n",
              "      <td>{'C': 1}</td>\n",
              "    </tr>\n",
              "    <tr>\n",
              "      <th>3</th>\n",
              "      <td>naive_bayes_gaussian</td>\n",
              "      <td>0.858428</td>\n",
              "      <td>{}</td>\n",
              "    </tr>\n",
              "    <tr>\n",
              "      <th>4</th>\n",
              "      <td>decision_tree</td>\n",
              "      <td>0.997015</td>\n",
              "      <td>{'criterion': 'gini'}</td>\n",
              "    </tr>\n",
              "  </tbody>\n",
              "</table>\n",
              "</div>\n",
              "      <button class=\"colab-df-convert\" onclick=\"convertToInteractive('df-09abaeeb-ee0d-444f-98de-067c5bdd6f24')\"\n",
              "              title=\"Convert this dataframe to an interactive table.\"\n",
              "              style=\"display:none;\">\n",
              "        \n",
              "  <svg xmlns=\"http://www.w3.org/2000/svg\" height=\"24px\"viewBox=\"0 0 24 24\"\n",
              "       width=\"24px\">\n",
              "    <path d=\"M0 0h24v24H0V0z\" fill=\"none\"/>\n",
              "    <path d=\"M18.56 5.44l.94 2.06.94-2.06 2.06-.94-2.06-.94-.94-2.06-.94 2.06-2.06.94zm-11 1L8.5 8.5l.94-2.06 2.06-.94-2.06-.94L8.5 2.5l-.94 2.06-2.06.94zm10 10l.94 2.06.94-2.06 2.06-.94-2.06-.94-.94-2.06-.94 2.06-2.06.94z\"/><path d=\"M17.41 7.96l-1.37-1.37c-.4-.4-.92-.59-1.43-.59-.52 0-1.04.2-1.43.59L10.3 9.45l-7.72 7.72c-.78.78-.78 2.05 0 2.83L4 21.41c.39.39.9.59 1.41.59.51 0 1.02-.2 1.41-.59l7.78-7.78 2.81-2.81c.8-.78.8-2.07 0-2.86zM5.41 20L4 18.59l7.72-7.72 1.47 1.35L5.41 20z\"/>\n",
              "  </svg>\n",
              "      </button>\n",
              "      \n",
              "  <style>\n",
              "    .colab-df-container {\n",
              "      display:flex;\n",
              "      flex-wrap:wrap;\n",
              "      gap: 12px;\n",
              "    }\n",
              "\n",
              "    .colab-df-convert {\n",
              "      background-color: #E8F0FE;\n",
              "      border: none;\n",
              "      border-radius: 50%;\n",
              "      cursor: pointer;\n",
              "      display: none;\n",
              "      fill: #1967D2;\n",
              "      height: 32px;\n",
              "      padding: 0 0 0 0;\n",
              "      width: 32px;\n",
              "    }\n",
              "\n",
              "    .colab-df-convert:hover {\n",
              "      background-color: #E2EBFA;\n",
              "      box-shadow: 0px 1px 2px rgba(60, 64, 67, 0.3), 0px 1px 3px 1px rgba(60, 64, 67, 0.15);\n",
              "      fill: #174EA6;\n",
              "    }\n",
              "\n",
              "    [theme=dark] .colab-df-convert {\n",
              "      background-color: #3B4455;\n",
              "      fill: #D2E3FC;\n",
              "    }\n",
              "\n",
              "    [theme=dark] .colab-df-convert:hover {\n",
              "      background-color: #434B5C;\n",
              "      box-shadow: 0px 1px 3px 1px rgba(0, 0, 0, 0.15);\n",
              "      filter: drop-shadow(0px 1px 2px rgba(0, 0, 0, 0.3));\n",
              "      fill: #FFFFFF;\n",
              "    }\n",
              "  </style>\n",
              "\n",
              "      <script>\n",
              "        const buttonEl =\n",
              "          document.querySelector('#df-09abaeeb-ee0d-444f-98de-067c5bdd6f24 button.colab-df-convert');\n",
              "        buttonEl.style.display =\n",
              "          google.colab.kernel.accessAllowed ? 'block' : 'none';\n",
              "\n",
              "        async function convertToInteractive(key) {\n",
              "          const element = document.querySelector('#df-09abaeeb-ee0d-444f-98de-067c5bdd6f24');\n",
              "          const dataTable =\n",
              "            await google.colab.kernel.invokeFunction('convertToInteractive',\n",
              "                                                     [key], {});\n",
              "          if (!dataTable) return;\n",
              "\n",
              "          const docLinkHtml = 'Like what you see? Visit the ' +\n",
              "            '<a target=\"_blank\" href=https://colab.research.google.com/notebooks/data_table.ipynb>data table notebook</a>'\n",
              "            + ' to learn more about interactive tables.';\n",
              "          element.innerHTML = '';\n",
              "          dataTable['output_type'] = 'display_data';\n",
              "          await google.colab.output.renderOutput(dataTable, element);\n",
              "          const docLink = document.createElement('div');\n",
              "          docLink.innerHTML = docLinkHtml;\n",
              "          element.appendChild(docLink);\n",
              "        }\n",
              "      </script>\n",
              "    </div>\n",
              "  </div>\n",
              "  "
            ]
          },
          "metadata": {},
          "execution_count": 141
        }
      ]
    },
    {
      "cell_type": "code",
      "source": [
        "model = MultinomialNB()\n",
        "model.fit(X_train,np.ravel(y_train))\n",
        "y_predict = model.predict(X_test)\n",
        "accuracy = metrics.accuracy_score(y_test,y_predict)\n",
        "print(accuracy)"
      ],
      "metadata": {
        "colab": {
          "base_uri": "https://localhost:8080/"
        },
        "id": "DvEn_Y6kDd45",
        "outputId": "d5c42b22-b073-4f44-fab7-e24be8d64fdb"
      },
      "execution_count": null,
      "outputs": [
        {
          "output_type": "stream",
          "name": "stdout",
          "text": [
            "0.8088235294117647\n"
          ]
        }
      ]
    }
  ]
}